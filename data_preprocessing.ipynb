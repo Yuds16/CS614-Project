{
 "cells": [
  {
   "cell_type": "code",
   "execution_count": null,
   "id": "99408bfd",
   "metadata": {},
   "outputs": [],
   "source": [
    "# execute as needed\n",
    "# pip install -r requirements.txt"
   ]
  },
  {
   "cell_type": "markdown",
   "id": "6d5e8296",
   "metadata": {},
   "source": [
    "## Process Books"
   ]
  },
  {
   "cell_type": "code",
   "execution_count": 27,
   "id": "53aca0ea",
   "metadata": {},
   "outputs": [],
   "source": [
    "import os\n",
    "import pymupdf\n",
    "from ebooklib import epub\n",
    "import ebooklib\n",
    "from bs4 import BeautifulSoup\n",
    "\n",
    "RAW_FOLDER_PATH = \"raw_data/books/\"\n",
    "PROCESSED_FOLDER_PATH = \"processed_data/books/\""
   ]
  },
  {
   "cell_type": "code",
   "execution_count": null,
   "id": "4284d530",
   "metadata": {},
   "outputs": [
    {
     "name": "stdout",
     "output_type": "stream",
     "text": [
      "Processing Suzanne Collins - Sunrise on the Reaping (2025).epub\n",
      "Finished processing Suzanne Collins - Sunrise on the Reaping (2025).epub.\n"
     ]
    }
   ],
   "source": [
    "available_files = os.listdir(RAW_FOLDER_PATH)\n",
    "\n",
    "for i in available_files:\n",
    "    print(f\"Processing {i}\")\n",
    "    \n",
    "    text = \"\"\n",
    "    if i.endswith(\".pdf\"):\n",
    "        doc = pymupdf.open(os.path.join(RAW_FOLDER_PATH, i))\n",
    "        for page in doc:\n",
    "            text += page.get_text()\n",
    "            \n",
    "    if i.endswith(\".epub\"):\n",
    "        book = epub.read_epub(os.path.join(RAW_FOLDER_PATH, i))\n",
    "        \n",
    "        for item in book.get_items():\n",
    "            if item.get_type() == ebooklib.ITEM_DOCUMENT:\n",
    "                decoded_content = item.get_content().decode('utf-8')\n",
    "                soup = BeautifulSoup(decoded_content, 'html.parser')\n",
    "                text += soup.get_text(separator=\"\\n\", strip=True) + \"\\n\"\n",
    "            \n",
    "            \n",
    "    with open(os.path.join(PROCESSED_FOLDER_PATH, \".\".join(i.split(\".\")[:-1])+\".txt\"), \"w\", encoding=\"utf-8\") as f:\n",
    "        f.write(text)\n",
    "        \n",
    "    print(f\"Finished processing {i}.\")"
   ]
  }
 ],
 "metadata": {
  "kernelspec": {
   "display_name": ".venv",
   "language": "python",
   "name": "python3"
  },
  "language_info": {
   "codemirror_mode": {
    "name": "ipython",
    "version": 3
   },
   "file_extension": ".py",
   "mimetype": "text/x-python",
   "name": "python",
   "nbconvert_exporter": "python",
   "pygments_lexer": "ipython3",
   "version": "3.12.7"
  }
 },
 "nbformat": 4,
 "nbformat_minor": 5
}
