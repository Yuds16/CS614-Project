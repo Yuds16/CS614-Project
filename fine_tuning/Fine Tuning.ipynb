{
 "cells": [
  {
   "cell_type": "markdown",
   "id": "e2afd2ac",
   "metadata": {},
   "source": [
    "### Install and Import Packages"
   ]
  },
  {
   "cell_type": "code",
   "execution_count": 6,
   "id": "fb7f218a",
   "metadata": {},
   "outputs": [
    {
     "name": "stdout",
     "output_type": "stream",
     "text": [
      "Requirement already satisfied: ipykernel in c:\\users\\ivan ng\\appdata\\roaming\\python\\python312\\site-packages (from -r ..\\requirements.txt (line 1)) (6.29.5)\n",
      "Requirement already satisfied: PyPDF2 in d:\\anaconda3\\lib\\site-packages (from -r ..\\requirements.txt (line 2)) (3.0.1)\n",
      "Requirement already satisfied: chromadb in d:\\anaconda3\\lib\\site-packages (from -r ..\\requirements.txt (line 3)) (1.0.12)\n",
      "Requirement already satisfied: transformers in d:\\anaconda3\\lib\\site-packages (from -r ..\\requirements.txt (line 4)) (4.52.4)\n",
      "Requirement already satisfied: torch in d:\\anaconda3\\lib\\site-packages (from -r ..\\requirements.txt (line 5)) (2.7.0+cu126)\n",
      "Requirement already satisfied: numpy in d:\\anaconda3\\lib\\site-packages (from -r ..\\requirements.txt (line 6)) (1.26.4)\n",
      "Requirement already satisfied: pandas in d:\\anaconda3\\lib\\site-packages (from -r ..\\requirements.txt (line 7)) (2.2.3)\n",
      "Requirement already satisfied: sentence_transformers in d:\\anaconda3\\lib\\site-packages (from -r ..\\requirements.txt (line 8)) (4.1.0)\n",
      "Requirement already satisfied: peft in d:\\anaconda3\\lib\\site-packages (from -r ..\\requirements.txt (line 9)) (0.15.2)\n",
      "Requirement already satisfied: accelerate in d:\\anaconda3\\lib\\site-packages (from -r ..\\requirements.txt (line 10)) (1.7.0)\n",
      "Requirement already satisfied: bitsandbytes in d:\\anaconda3\\lib\\site-packages (from -r ..\\requirements.txt (line 11)) (0.46.0)\n",
      "Requirement already satisfied: datasets in d:\\anaconda3\\lib\\site-packages (from -r ..\\requirements.txt (line 12)) (3.6.0)\n",
      "Requirement already satisfied: langchain in d:\\anaconda3\\lib\\site-packages (from -r ..\\requirements.txt (line 13)) (0.3.25)\n",
      "Requirement already satisfied: langchain-core in d:\\anaconda3\\lib\\site-packages (from -r ..\\requirements.txt (line 14)) (0.3.63)\n",
      "Requirement already satisfied: comm>=0.1.1 in c:\\users\\ivan ng\\appdata\\roaming\\python\\python312\\site-packages (from ipykernel->-r ..\\requirements.txt (line 1)) (0.2.2)\n",
      "Requirement already satisfied: debugpy>=1.6.5 in c:\\users\\ivan ng\\appdata\\roaming\\python\\python312\\site-packages (from ipykernel->-r ..\\requirements.txt (line 1)) (1.8.14)\n",
      "Requirement already satisfied: ipython>=7.23.1 in c:\\users\\ivan ng\\appdata\\roaming\\python\\python312\\site-packages (from ipykernel->-r ..\\requirements.txt (line 1)) (9.2.0)\n",
      "Requirement already satisfied: jupyter-client>=6.1.12 in c:\\users\\ivan ng\\appdata\\roaming\\python\\python312\\site-packages (from ipykernel->-r ..\\requirements.txt (line 1)) (8.6.3)\n",
      "Requirement already satisfied: jupyter-core!=5.0.*,>=4.12 in c:\\users\\ivan ng\\appdata\\roaming\\python\\python312\\site-packages (from ipykernel->-r ..\\requirements.txt (line 1)) (5.8.1)\n",
      "Requirement already satisfied: matplotlib-inline>=0.1 in c:\\users\\ivan ng\\appdata\\roaming\\python\\python312\\site-packages (from ipykernel->-r ..\\requirements.txt (line 1)) (0.1.7)\n",
      "Requirement already satisfied: nest-asyncio in c:\\users\\ivan ng\\appdata\\roaming\\python\\python312\\site-packages (from ipykernel->-r ..\\requirements.txt (line 1)) (1.6.0)\n",
      "Requirement already satisfied: packaging in d:\\anaconda3\\lib\\site-packages (from ipykernel->-r ..\\requirements.txt (line 1)) (24.1)\n",
      "Requirement already satisfied: psutil in c:\\users\\ivan ng\\appdata\\roaming\\python\\python312\\site-packages (from ipykernel->-r ..\\requirements.txt (line 1)) (7.0.0)\n",
      "Requirement already satisfied: pyzmq>=24 in c:\\users\\ivan ng\\appdata\\roaming\\python\\python312\\site-packages (from ipykernel->-r ..\\requirements.txt (line 1)) (26.4.0)\n",
      "Requirement already satisfied: tornado>=6.1 in c:\\users\\ivan ng\\appdata\\roaming\\python\\python312\\site-packages (from ipykernel->-r ..\\requirements.txt (line 1)) (6.5.1)\n",
      "Requirement already satisfied: traitlets>=5.4.0 in c:\\users\\ivan ng\\appdata\\roaming\\python\\python312\\site-packages (from ipykernel->-r ..\\requirements.txt (line 1)) (5.14.3)\n",
      "Requirement already satisfied: build>=1.0.3 in d:\\anaconda3\\lib\\site-packages (from chromadb->-r ..\\requirements.txt (line 3)) (1.2.2.post1)\n",
      "Requirement already satisfied: pydantic>=1.9 in d:\\anaconda3\\lib\\site-packages (from chromadb->-r ..\\requirements.txt (line 3)) (2.11.5)\n",
      "Requirement already satisfied: fastapi==0.115.9 in d:\\anaconda3\\lib\\site-packages (from chromadb->-r ..\\requirements.txt (line 3)) (0.115.9)\n",
      "Requirement already satisfied: uvicorn>=0.18.3 in d:\\anaconda3\\lib\\site-packages (from uvicorn[standard]>=0.18.3->chromadb->-r ..\\requirements.txt (line 3)) (0.34.3)\n",
      "Requirement already satisfied: posthog>=2.4.0 in d:\\anaconda3\\lib\\site-packages (from chromadb->-r ..\\requirements.txt (line 3)) (4.2.0)\n",
      "Requirement already satisfied: typing-extensions>=4.5.0 in d:\\anaconda3\\lib\\site-packages (from chromadb->-r ..\\requirements.txt (line 3)) (4.14.0)\n",
      "Requirement already satisfied: onnxruntime>=1.14.1 in d:\\anaconda3\\lib\\site-packages (from chromadb->-r ..\\requirements.txt (line 3)) (1.22.0)\n",
      "Requirement already satisfied: opentelemetry-api>=1.2.0 in d:\\anaconda3\\lib\\site-packages (from chromadb->-r ..\\requirements.txt (line 3)) (1.33.1)\n",
      "Requirement already satisfied: opentelemetry-exporter-otlp-proto-grpc>=1.2.0 in d:\\anaconda3\\lib\\site-packages (from chromadb->-r ..\\requirements.txt (line 3)) (1.33.1)\n",
      "Requirement already satisfied: opentelemetry-instrumentation-fastapi>=0.41b0 in d:\\anaconda3\\lib\\site-packages (from chromadb->-r ..\\requirements.txt (line 3)) (0.54b1)\n",
      "Requirement already satisfied: opentelemetry-sdk>=1.2.0 in d:\\anaconda3\\lib\\site-packages (from chromadb->-r ..\\requirements.txt (line 3)) (1.33.1)\n",
      "Requirement already satisfied: tokenizers>=0.13.2 in d:\\anaconda3\\lib\\site-packages (from chromadb->-r ..\\requirements.txt (line 3)) (0.21.1)\n",
      "Requirement already satisfied: pypika>=0.48.9 in d:\\anaconda3\\lib\\site-packages (from chromadb->-r ..\\requirements.txt (line 3)) (0.48.9)\n",
      "Requirement already satisfied: tqdm>=4.65.0 in d:\\anaconda3\\lib\\site-packages (from chromadb->-r ..\\requirements.txt (line 3)) (4.66.5)\n",
      "Requirement already satisfied: overrides>=7.3.1 in d:\\anaconda3\\lib\\site-packages (from chromadb->-r ..\\requirements.txt (line 3)) (7.4.0)\n",
      "Requirement already satisfied: importlib-resources in d:\\anaconda3\\lib\\site-packages (from chromadb->-r ..\\requirements.txt (line 3)) (6.5.2)\n",
      "Requirement already satisfied: grpcio>=1.58.0 in d:\\anaconda3\\lib\\site-packages (from chromadb->-r ..\\requirements.txt (line 3)) (1.72.1)\n",
      "Requirement already satisfied: bcrypt>=4.0.1 in d:\\anaconda3\\lib\\site-packages (from chromadb->-r ..\\requirements.txt (line 3)) (4.3.0)\n",
      "Requirement already satisfied: typer>=0.9.0 in d:\\anaconda3\\lib\\site-packages (from chromadb->-r ..\\requirements.txt (line 3)) (0.16.0)\n",
      "Requirement already satisfied: kubernetes>=28.1.0 in d:\\anaconda3\\lib\\site-packages (from chromadb->-r ..\\requirements.txt (line 3)) (32.0.1)\n",
      "Requirement already satisfied: tenacity>=8.2.3 in d:\\anaconda3\\lib\\site-packages (from chromadb->-r ..\\requirements.txt (line 3)) (8.2.3)\n",
      "Requirement already satisfied: pyyaml>=6.0.0 in d:\\anaconda3\\lib\\site-packages (from chromadb->-r ..\\requirements.txt (line 3)) (6.0.1)\n",
      "Requirement already satisfied: mmh3>=4.0.1 in d:\\anaconda3\\lib\\site-packages (from chromadb->-r ..\\requirements.txt (line 3)) (5.1.0)\n",
      "Requirement already satisfied: orjson>=3.9.12 in d:\\anaconda3\\lib\\site-packages (from chromadb->-r ..\\requirements.txt (line 3)) (3.10.18)\n",
      "Requirement already satisfied: httpx>=0.27.0 in d:\\anaconda3\\lib\\site-packages (from chromadb->-r ..\\requirements.txt (line 3)) (0.27.0)\n",
      "Requirement already satisfied: rich>=10.11.0 in d:\\anaconda3\\lib\\site-packages (from chromadb->-r ..\\requirements.txt (line 3)) (14.0.0)\n",
      "Requirement already satisfied: jsonschema>=4.19.0 in d:\\anaconda3\\lib\\site-packages (from chromadb->-r ..\\requirements.txt (line 3)) (4.23.0)\n",
      "Requirement already satisfied: starlette<0.46.0,>=0.40.0 in d:\\anaconda3\\lib\\site-packages (from fastapi==0.115.9->chromadb->-r ..\\requirements.txt (line 3)) (0.45.3)\n",
      "Requirement already satisfied: annotated-types>=0.6.0 in d:\\anaconda3\\lib\\site-packages (from pydantic>=1.9->chromadb->-r ..\\requirements.txt (line 3)) (0.6.0)\n",
      "Requirement already satisfied: pydantic-core==2.33.2 in d:\\anaconda3\\lib\\site-packages (from pydantic>=1.9->chromadb->-r ..\\requirements.txt (line 3)) (2.33.2)\n",
      "Requirement already satisfied: typing-inspection>=0.4.0 in d:\\anaconda3\\lib\\site-packages (from pydantic>=1.9->chromadb->-r ..\\requirements.txt (line 3)) (0.4.1)\n",
      "Requirement already satisfied: anyio<5,>=3.6.2 in d:\\anaconda3\\lib\\site-packages (from starlette<0.46.0,>=0.40.0->fastapi==0.115.9->chromadb->-r ..\\requirements.txt (line 3)) (4.9.0)\n",
      "Requirement already satisfied: idna>=2.8 in d:\\anaconda3\\lib\\site-packages (from anyio<5,>=3.6.2->starlette<0.46.0,>=0.40.0->fastapi==0.115.9->chromadb->-r ..\\requirements.txt (line 3)) (3.7)\n",
      "Requirement already satisfied: sniffio>=1.1 in d:\\anaconda3\\lib\\site-packages (from anyio<5,>=3.6.2->starlette<0.46.0,>=0.40.0->fastapi==0.115.9->chromadb->-r ..\\requirements.txt (line 3)) (1.3.0)\n",
      "Requirement already satisfied: filelock in d:\\anaconda3\\lib\\site-packages (from transformers->-r ..\\requirements.txt (line 4)) (3.13.1)\n",
      "Requirement already satisfied: huggingface-hub<1.0,>=0.30.0 in d:\\anaconda3\\lib\\site-packages (from transformers->-r ..\\requirements.txt (line 4)) (0.32.4)\n",
      "Requirement already satisfied: regex!=2019.12.17 in d:\\anaconda3\\lib\\site-packages (from transformers->-r ..\\requirements.txt (line 4)) (2024.9.11)\n",
      "Requirement already satisfied: requests in d:\\anaconda3\\lib\\site-packages (from transformers->-r ..\\requirements.txt (line 4)) (2.32.3)\n",
      "Requirement already satisfied: safetensors>=0.4.3 in d:\\anaconda3\\lib\\site-packages (from transformers->-r ..\\requirements.txt (line 4)) (0.5.3)\n",
      "Requirement already satisfied: fsspec>=2023.5.0 in d:\\anaconda3\\lib\\site-packages (from huggingface-hub<1.0,>=0.30.0->transformers->-r ..\\requirements.txt (line 4)) (2025.3.0)\n",
      "Requirement already satisfied: sympy>=1.13.3 in d:\\anaconda3\\lib\\site-packages (from torch->-r ..\\requirements.txt (line 5)) (1.13.3)\n",
      "Requirement already satisfied: networkx in d:\\anaconda3\\lib\\site-packages (from torch->-r ..\\requirements.txt (line 5)) (3.3)\n",
      "Requirement already satisfied: jinja2 in d:\\anaconda3\\lib\\site-packages (from torch->-r ..\\requirements.txt (line 5)) (3.1.4)\n",
      "Requirement already satisfied: setuptools in d:\\anaconda3\\lib\\site-packages (from torch->-r ..\\requirements.txt (line 5)) (75.1.0)\n",
      "Requirement already satisfied: python-dateutil>=2.8.2 in c:\\users\\ivan ng\\appdata\\roaming\\python\\python312\\site-packages (from pandas->-r ..\\requirements.txt (line 7)) (2.9.0.post0)\n",
      "Requirement already satisfied: pytz>=2020.1 in d:\\anaconda3\\lib\\site-packages (from pandas->-r ..\\requirements.txt (line 7)) (2025.2)\n",
      "Requirement already satisfied: tzdata>=2022.7 in d:\\anaconda3\\lib\\site-packages (from pandas->-r ..\\requirements.txt (line 7)) (2023.3)\n",
      "Requirement already satisfied: scikit-learn in d:\\anaconda3\\lib\\site-packages (from sentence_transformers->-r ..\\requirements.txt (line 8)) (1.6.1)\n",
      "Requirement already satisfied: scipy in d:\\anaconda3\\lib\\site-packages (from sentence_transformers->-r ..\\requirements.txt (line 8)) (1.13.1)\n",
      "Requirement already satisfied: Pillow in d:\\anaconda3\\lib\\site-packages (from sentence_transformers->-r ..\\requirements.txt (line 8)) (10.4.0)\n",
      "Requirement already satisfied: pyarrow>=15.0.0 in d:\\anaconda3\\lib\\site-packages (from datasets->-r ..\\requirements.txt (line 12)) (16.1.0)\n",
      "Requirement already satisfied: dill<0.3.9,>=0.3.0 in d:\\anaconda3\\lib\\site-packages (from datasets->-r ..\\requirements.txt (line 12)) (0.3.8)\n",
      "Requirement already satisfied: xxhash in d:\\anaconda3\\lib\\site-packages (from datasets->-r ..\\requirements.txt (line 12)) (3.5.0)\n",
      "Requirement already satisfied: multiprocess<0.70.17 in d:\\anaconda3\\lib\\site-packages (from datasets->-r ..\\requirements.txt (line 12)) (0.70.16)\n",
      "Requirement already satisfied: aiohttp!=4.0.0a0,!=4.0.0a1 in d:\\anaconda3\\lib\\site-packages (from fsspec[http]<=2025.3.0,>=2023.1.0->datasets->-r ..\\requirements.txt (line 12)) (3.10.5)\n",
      "Requirement already satisfied: langchain-text-splitters<1.0.0,>=0.3.8 in d:\\anaconda3\\lib\\site-packages (from langchain->-r ..\\requirements.txt (line 13)) (0.3.8)\n",
      "Requirement already satisfied: langsmith<0.4,>=0.1.17 in d:\\anaconda3\\lib\\site-packages (from langchain->-r ..\\requirements.txt (line 13)) (0.3.44)\n",
      "Requirement already satisfied: SQLAlchemy<3,>=1.4 in d:\\anaconda3\\lib\\site-packages (from langchain->-r ..\\requirements.txt (line 13)) (2.0.34)\n",
      "Requirement already satisfied: jsonpatch<2.0,>=1.33 in d:\\anaconda3\\lib\\site-packages (from langchain-core->-r ..\\requirements.txt (line 14)) (1.33)\n",
      "Requirement already satisfied: jsonpointer>=1.9 in d:\\anaconda3\\lib\\site-packages (from jsonpatch<2.0,>=1.33->langchain-core->-r ..\\requirements.txt (line 14)) (2.1)\n",
      "Requirement already satisfied: requests-toolbelt<2.0.0,>=1.0.0 in d:\\anaconda3\\lib\\site-packages (from langsmith<0.4,>=0.1.17->langchain->-r ..\\requirements.txt (line 13)) (1.0.0)\n",
      "Requirement already satisfied: zstandard<0.24.0,>=0.23.0 in d:\\anaconda3\\lib\\site-packages (from langsmith<0.4,>=0.1.17->langchain->-r ..\\requirements.txt (line 13)) (0.23.0)\n",
      "Requirement already satisfied: certifi in d:\\anaconda3\\lib\\site-packages (from httpx>=0.27.0->chromadb->-r ..\\requirements.txt (line 3)) (2025.4.26)\n",
      "Requirement already satisfied: httpcore==1.* in d:\\anaconda3\\lib\\site-packages (from httpx>=0.27.0->chromadb->-r ..\\requirements.txt (line 3)) (1.0.2)\n",
      "Requirement already satisfied: h11<0.15,>=0.13 in d:\\anaconda3\\lib\\site-packages (from httpcore==1.*->httpx>=0.27.0->chromadb->-r ..\\requirements.txt (line 3)) (0.14.0)\n",
      "Requirement already satisfied: charset-normalizer<4,>=2 in d:\\anaconda3\\lib\\site-packages (from requests->transformers->-r ..\\requirements.txt (line 4)) (3.3.2)\n",
      "Requirement already satisfied: urllib3<3,>=1.21.1 in d:\\anaconda3\\lib\\site-packages (from requests->transformers->-r ..\\requirements.txt (line 4)) (2.2.3)\n",
      "Requirement already satisfied: greenlet!=0.4.17 in d:\\anaconda3\\lib\\site-packages (from SQLAlchemy<3,>=1.4->langchain->-r ..\\requirements.txt (line 13)) (3.0.1)\n",
      "Requirement already satisfied: aiohappyeyeballs>=2.3.0 in d:\\anaconda3\\lib\\site-packages (from aiohttp!=4.0.0a0,!=4.0.0a1->fsspec[http]<=2025.3.0,>=2023.1.0->datasets->-r ..\\requirements.txt (line 12)) (2.4.0)\n",
      "Requirement already satisfied: aiosignal>=1.1.2 in d:\\anaconda3\\lib\\site-packages (from aiohttp!=4.0.0a0,!=4.0.0a1->fsspec[http]<=2025.3.0,>=2023.1.0->datasets->-r ..\\requirements.txt (line 12)) (1.2.0)\n",
      "Requirement already satisfied: attrs>=17.3.0 in d:\\anaconda3\\lib\\site-packages (from aiohttp!=4.0.0a0,!=4.0.0a1->fsspec[http]<=2025.3.0,>=2023.1.0->datasets->-r ..\\requirements.txt (line 12)) (23.1.0)\n",
      "Requirement already satisfied: frozenlist>=1.1.1 in d:\\anaconda3\\lib\\site-packages (from aiohttp!=4.0.0a0,!=4.0.0a1->fsspec[http]<=2025.3.0,>=2023.1.0->datasets->-r ..\\requirements.txt (line 12)) (1.4.0)\n",
      "Requirement already satisfied: multidict<7.0,>=4.5 in d:\\anaconda3\\lib\\site-packages (from aiohttp!=4.0.0a0,!=4.0.0a1->fsspec[http]<=2025.3.0,>=2023.1.0->datasets->-r ..\\requirements.txt (line 12)) (6.0.4)\n",
      "Requirement already satisfied: yarl<2.0,>=1.0 in d:\\anaconda3\\lib\\site-packages (from aiohttp!=4.0.0a0,!=4.0.0a1->fsspec[http]<=2025.3.0,>=2023.1.0->datasets->-r ..\\requirements.txt (line 12)) (1.11.0)\n",
      "Requirement already satisfied: pyproject_hooks in d:\\anaconda3\\lib\\site-packages (from build>=1.0.3->chromadb->-r ..\\requirements.txt (line 3)) (1.2.0)\n",
      "Requirement already satisfied: colorama in c:\\users\\ivan ng\\appdata\\roaming\\python\\python312\\site-packages (from build>=1.0.3->chromadb->-r ..\\requirements.txt (line 3)) (0.4.6)\n",
      "Requirement already satisfied: decorator in c:\\users\\ivan ng\\appdata\\roaming\\python\\python312\\site-packages (from ipython>=7.23.1->ipykernel->-r ..\\requirements.txt (line 1)) (5.2.1)\n",
      "Requirement already satisfied: ipython-pygments-lexers in c:\\users\\ivan ng\\appdata\\roaming\\python\\python312\\site-packages (from ipython>=7.23.1->ipykernel->-r ..\\requirements.txt (line 1)) (1.1.1)\n",
      "Requirement already satisfied: jedi>=0.16 in c:\\users\\ivan ng\\appdata\\roaming\\python\\python312\\site-packages (from ipython>=7.23.1->ipykernel->-r ..\\requirements.txt (line 1)) (0.19.2)\n",
      "Requirement already satisfied: prompt_toolkit<3.1.0,>=3.0.41 in c:\\users\\ivan ng\\appdata\\roaming\\python\\python312\\site-packages (from ipython>=7.23.1->ipykernel->-r ..\\requirements.txt (line 1)) (3.0.51)\n",
      "Requirement already satisfied: pygments>=2.4.0 in c:\\users\\ivan ng\\appdata\\roaming\\python\\python312\\site-packages (from ipython>=7.23.1->ipykernel->-r ..\\requirements.txt (line 1)) (2.19.1)\n",
      "Requirement already satisfied: stack_data in c:\\users\\ivan ng\\appdata\\roaming\\python\\python312\\site-packages (from ipython>=7.23.1->ipykernel->-r ..\\requirements.txt (line 1)) (0.6.3)\n",
      "Requirement already satisfied: wcwidth in c:\\users\\ivan ng\\appdata\\roaming\\python\\python312\\site-packages (from prompt_toolkit<3.1.0,>=3.0.41->ipython>=7.23.1->ipykernel->-r ..\\requirements.txt (line 1)) (0.2.13)\n",
      "Requirement already satisfied: parso<0.9.0,>=0.8.4 in c:\\users\\ivan ng\\appdata\\roaming\\python\\python312\\site-packages (from jedi>=0.16->ipython>=7.23.1->ipykernel->-r ..\\requirements.txt (line 1)) (0.8.4)\n",
      "Requirement already satisfied: jsonschema-specifications>=2023.03.6 in d:\\anaconda3\\lib\\site-packages (from jsonschema>=4.19.0->chromadb->-r ..\\requirements.txt (line 3)) (2023.7.1)\n",
      "Requirement already satisfied: referencing>=0.28.4 in d:\\anaconda3\\lib\\site-packages (from jsonschema>=4.19.0->chromadb->-r ..\\requirements.txt (line 3)) (0.30.2)\n",
      "Requirement already satisfied: rpds-py>=0.7.1 in d:\\anaconda3\\lib\\site-packages (from jsonschema>=4.19.0->chromadb->-r ..\\requirements.txt (line 3)) (0.10.6)\n",
      "Requirement already satisfied: platformdirs>=2.5 in c:\\users\\ivan ng\\appdata\\roaming\\python\\python312\\site-packages (from jupyter-core!=5.0.*,>=4.12->ipykernel->-r ..\\requirements.txt (line 1)) (4.3.8)\n",
      "Requirement already satisfied: pywin32>=300 in c:\\users\\ivan ng\\appdata\\roaming\\python\\python312\\site-packages (from jupyter-core!=5.0.*,>=4.12->ipykernel->-r ..\\requirements.txt (line 1)) (310)\n",
      "Requirement already satisfied: six>=1.9.0 in c:\\users\\ivan ng\\appdata\\roaming\\python\\python312\\site-packages (from kubernetes>=28.1.0->chromadb->-r ..\\requirements.txt (line 3)) (1.17.0)\n",
      "Requirement already satisfied: google-auth>=1.0.1 in d:\\anaconda3\\lib\\site-packages (from kubernetes>=28.1.0->chromadb->-r ..\\requirements.txt (line 3)) (2.40.2)\n",
      "Requirement already satisfied: websocket-client!=0.40.0,!=0.41.*,!=0.42.*,>=0.32.0 in d:\\anaconda3\\lib\\site-packages (from kubernetes>=28.1.0->chromadb->-r ..\\requirements.txt (line 3)) (1.8.0)\n",
      "Requirement already satisfied: requests-oauthlib in d:\\anaconda3\\lib\\site-packages (from kubernetes>=28.1.0->chromadb->-r ..\\requirements.txt (line 3)) (2.0.0)\n",
      "Requirement already satisfied: oauthlib>=3.2.2 in d:\\anaconda3\\lib\\site-packages (from kubernetes>=28.1.0->chromadb->-r ..\\requirements.txt (line 3)) (3.2.2)\n",
      "Requirement already satisfied: durationpy>=0.7 in d:\\anaconda3\\lib\\site-packages (from kubernetes>=28.1.0->chromadb->-r ..\\requirements.txt (line 3)) (0.10)\n",
      "Requirement already satisfied: cachetools<6.0,>=2.0.0 in d:\\anaconda3\\lib\\site-packages (from google-auth>=1.0.1->kubernetes>=28.1.0->chromadb->-r ..\\requirements.txt (line 3)) (5.3.3)\n",
      "Requirement already satisfied: pyasn1-modules>=0.2.1 in d:\\anaconda3\\lib\\site-packages (from google-auth>=1.0.1->kubernetes>=28.1.0->chromadb->-r ..\\requirements.txt (line 3)) (0.2.8)\n",
      "Requirement already satisfied: rsa<5,>=3.1.4 in d:\\anaconda3\\lib\\site-packages (from google-auth>=1.0.1->kubernetes>=28.1.0->chromadb->-r ..\\requirements.txt (line 3)) (4.9.1)\n",
      "Requirement already satisfied: pyasn1>=0.1.3 in d:\\anaconda3\\lib\\site-packages (from rsa<5,>=3.1.4->google-auth>=1.0.1->kubernetes>=28.1.0->chromadb->-r ..\\requirements.txt (line 3)) (0.4.8)\n",
      "Requirement already satisfied: coloredlogs in d:\\anaconda3\\lib\\site-packages (from onnxruntime>=1.14.1->chromadb->-r ..\\requirements.txt (line 3)) (15.0.1)\n",
      "Requirement already satisfied: flatbuffers in d:\\anaconda3\\lib\\site-packages (from onnxruntime>=1.14.1->chromadb->-r ..\\requirements.txt (line 3)) (25.2.10)\n",
      "Requirement already satisfied: protobuf in d:\\anaconda3\\lib\\site-packages (from onnxruntime>=1.14.1->chromadb->-r ..\\requirements.txt (line 3)) (5.29.5)\n",
      "Requirement already satisfied: deprecated>=1.2.6 in d:\\anaconda3\\lib\\site-packages (from opentelemetry-api>=1.2.0->chromadb->-r ..\\requirements.txt (line 3)) (1.2.18)\n",
      "Requirement already satisfied: importlib-metadata<8.7.0,>=6.0 in d:\\anaconda3\\lib\\site-packages (from opentelemetry-api>=1.2.0->chromadb->-r ..\\requirements.txt (line 3)) (7.0.1)\n",
      "Requirement already satisfied: zipp>=0.5 in d:\\anaconda3\\lib\\site-packages (from importlib-metadata<8.7.0,>=6.0->opentelemetry-api>=1.2.0->chromadb->-r ..\\requirements.txt (line 3)) (3.17.0)\n",
      "Requirement already satisfied: wrapt<2,>=1.10 in d:\\anaconda3\\lib\\site-packages (from deprecated>=1.2.6->opentelemetry-api>=1.2.0->chromadb->-r ..\\requirements.txt (line 3)) (1.14.1)\n",
      "Requirement already satisfied: googleapis-common-protos~=1.52 in d:\\anaconda3\\lib\\site-packages (from opentelemetry-exporter-otlp-proto-grpc>=1.2.0->chromadb->-r ..\\requirements.txt (line 3)) (1.70.0)\n",
      "Requirement already satisfied: opentelemetry-exporter-otlp-proto-common==1.33.1 in d:\\anaconda3\\lib\\site-packages (from opentelemetry-exporter-otlp-proto-grpc>=1.2.0->chromadb->-r ..\\requirements.txt (line 3)) (1.33.1)\n",
      "Requirement already satisfied: opentelemetry-proto==1.33.1 in d:\\anaconda3\\lib\\site-packages (from opentelemetry-exporter-otlp-proto-grpc>=1.2.0->chromadb->-r ..\\requirements.txt (line 3)) (1.33.1)\n",
      "Requirement already satisfied: opentelemetry-semantic-conventions==0.54b1 in d:\\anaconda3\\lib\\site-packages (from opentelemetry-sdk>=1.2.0->chromadb->-r ..\\requirements.txt (line 3)) (0.54b1)\n",
      "Requirement already satisfied: opentelemetry-instrumentation-asgi==0.54b1 in d:\\anaconda3\\lib\\site-packages (from opentelemetry-instrumentation-fastapi>=0.41b0->chromadb->-r ..\\requirements.txt (line 3)) (0.54b1)\n",
      "Requirement already satisfied: opentelemetry-instrumentation==0.54b1 in d:\\anaconda3\\lib\\site-packages (from opentelemetry-instrumentation-fastapi>=0.41b0->chromadb->-r ..\\requirements.txt (line 3)) (0.54b1)\n",
      "Requirement already satisfied: opentelemetry-util-http==0.54b1 in d:\\anaconda3\\lib\\site-packages (from opentelemetry-instrumentation-fastapi>=0.41b0->chromadb->-r ..\\requirements.txt (line 3)) (0.54b1)\n",
      "Requirement already satisfied: asgiref~=3.0 in d:\\anaconda3\\lib\\site-packages (from opentelemetry-instrumentation-asgi==0.54b1->opentelemetry-instrumentation-fastapi>=0.41b0->chromadb->-r ..\\requirements.txt (line 3)) (3.8.1)\n",
      "Requirement already satisfied: backoff>=1.10.0 in d:\\anaconda3\\lib\\site-packages (from posthog>=2.4.0->chromadb->-r ..\\requirements.txt (line 3)) (2.2.1)\n",
      "Requirement already satisfied: distro>=1.5.0 in d:\\anaconda3\\lib\\site-packages (from posthog>=2.4.0->chromadb->-r ..\\requirements.txt (line 3)) (1.9.0)\n",
      "Requirement already satisfied: markdown-it-py>=2.2.0 in d:\\anaconda3\\lib\\site-packages (from rich>=10.11.0->chromadb->-r ..\\requirements.txt (line 3)) (2.2.0)\n",
      "Requirement already satisfied: mdurl~=0.1 in d:\\anaconda3\\lib\\site-packages (from markdown-it-py>=2.2.0->rich>=10.11.0->chromadb->-r ..\\requirements.txt (line 3)) (0.1.0)\n",
      "Requirement already satisfied: mpmath<1.4,>=1.1.0 in d:\\anaconda3\\lib\\site-packages (from sympy>=1.13.3->torch->-r ..\\requirements.txt (line 5)) (1.3.0)\n",
      "Requirement already satisfied: click>=8.0.0 in d:\\anaconda3\\lib\\site-packages (from typer>=0.9.0->chromadb->-r ..\\requirements.txt (line 3)) (8.1.7)\n",
      "Requirement already satisfied: shellingham>=1.3.0 in d:\\anaconda3\\lib\\site-packages (from typer>=0.9.0->chromadb->-r ..\\requirements.txt (line 3)) (1.5.4)\n",
      "Requirement already satisfied: httptools>=0.6.3 in d:\\anaconda3\\lib\\site-packages (from uvicorn[standard]>=0.18.3->chromadb->-r ..\\requirements.txt (line 3)) (0.6.4)\n",
      "Requirement already satisfied: python-dotenv>=0.13 in d:\\anaconda3\\lib\\site-packages (from uvicorn[standard]>=0.18.3->chromadb->-r ..\\requirements.txt (line 3)) (1.1.0)\n",
      "Requirement already satisfied: watchfiles>=0.13 in d:\\anaconda3\\lib\\site-packages (from uvicorn[standard]>=0.18.3->chromadb->-r ..\\requirements.txt (line 3)) (1.0.5)\n",
      "Requirement already satisfied: websockets>=10.4 in d:\\anaconda3\\lib\\site-packages (from uvicorn[standard]>=0.18.3->chromadb->-r ..\\requirements.txt (line 3)) (15.0.1)\n",
      "Requirement already satisfied: humanfriendly>=9.1 in d:\\anaconda3\\lib\\site-packages (from coloredlogs->onnxruntime>=1.14.1->chromadb->-r ..\\requirements.txt (line 3)) (10.0)\n",
      "Requirement already satisfied: pyreadline3 in d:\\anaconda3\\lib\\site-packages (from humanfriendly>=9.1->coloredlogs->onnxruntime>=1.14.1->chromadb->-r ..\\requirements.txt (line 3)) (3.5.4)\n",
      "Requirement already satisfied: MarkupSafe>=2.0 in d:\\anaconda3\\lib\\site-packages (from jinja2->torch->-r ..\\requirements.txt (line 5)) (2.1.3)\n",
      "Requirement already satisfied: joblib>=1.2.0 in d:\\anaconda3\\lib\\site-packages (from scikit-learn->sentence_transformers->-r ..\\requirements.txt (line 8)) (1.4.2)\n",
      "Requirement already satisfied: threadpoolctl>=3.1.0 in d:\\anaconda3\\lib\\site-packages (from scikit-learn->sentence_transformers->-r ..\\requirements.txt (line 8)) (3.5.0)\n",
      "Requirement already satisfied: executing>=1.2.0 in c:\\users\\ivan ng\\appdata\\roaming\\python\\python312\\site-packages (from stack_data->ipython>=7.23.1->ipykernel->-r ..\\requirements.txt (line 1)) (2.2.0)\n",
      "Requirement already satisfied: asttokens>=2.1.0 in c:\\users\\ivan ng\\appdata\\roaming\\python\\python312\\site-packages (from stack_data->ipython>=7.23.1->ipykernel->-r ..\\requirements.txt (line 1)) (3.0.0)\n",
      "Requirement already satisfied: pure-eval in c:\\users\\ivan ng\\appdata\\roaming\\python\\python312\\site-packages (from stack_data->ipython>=7.23.1->ipykernel->-r ..\\requirements.txt (line 1)) (0.2.3)\n"
     ]
    }
   ],
   "source": [
    "!pip install -r ..\\requirements.txt"
   ]
  },
  {
   "cell_type": "code",
   "execution_count": 1,
   "id": "04fb8e09",
   "metadata": {},
   "outputs": [],
   "source": [
    "import json\n",
    "import random\n",
    "import pandas as pd\n",
    "from sklearn.model_selection import train_test_split\n",
    "from datasets import load_dataset\n",
    "from collections import Counter, defaultdict"
   ]
  },
  {
   "cell_type": "markdown",
   "id": "e4f366a0",
   "metadata": {},
   "source": [
    "### Data Loading"
   ]
  },
  {
   "cell_type": "code",
   "execution_count": 2,
   "id": "1e2b0435",
   "metadata": {},
   "outputs": [],
   "source": [
    "sunrise_path = \"fine_tuning_sunrise.json\""
   ]
  },
  {
   "cell_type": "code",
   "execution_count": 25,
   "id": "b99e38c3",
   "metadata": {},
   "outputs": [
    {
     "data": {
      "text/plain": [
       "DatasetDict({\n",
       "    train: Dataset({\n",
       "        features: ['id', 'type', 'chapter', 'set', 'question', 'answer'],\n",
       "        num_rows: 600\n",
       "    })\n",
       "})"
      ]
     },
     "execution_count": 25,
     "metadata": {},
     "output_type": "execute_result"
    }
   ],
   "source": [
    "dataset = load_dataset('json', data_files=sunrise_path)\n",
    "dataset"
   ]
  },
  {
   "cell_type": "code",
   "execution_count": 31,
   "id": "ab60dd7d",
   "metadata": {},
   "outputs": [
    {
     "name": "stdout",
     "output_type": "stream",
     "text": [
      "['Chapter 1', 'Chapter 1', 'Chapter 1', 'Chapter 1', 'Chapter 1', 'Chapter 1', 'Chapter 1', 'Chapter 1', 'Chapter 1', 'Chapter 1', 'Chapter 1', 'Chapter 1', 'Chapter 1', 'Chapter 1', 'Chapter 1', 'Chapter 1', 'Chapter 1', 'Chapter 1', 'Chapter 1', 'Chapter 1', 'Chapter 2', 'Chapter 2', 'Chapter 2', 'Chapter 2', 'Chapter 2', 'Chapter 2', 'Chapter 2', 'Chapter 2', 'Chapter 2', 'Chapter 2', 'Chapter 2', 'Chapter 2', 'Chapter 2', 'Chapter 2', 'Chapter 2', 'Chapter 2', 'Chapter 2', 'Chapter 2', 'Chapter 2', 'Chapter 2', 'Chapter 3', 'Chapter 3', 'Chapter 3', 'Chapter 3', 'Chapter 3', 'Chapter 3', 'Chapter 3', 'Chapter 3', 'Chapter 3', 'Chapter 3', 'Chapter 3', 'Chapter 3', 'Chapter 3', 'Chapter 3', 'Chapter 3', 'Chapter 3', 'Chapter 3', 'Chapter 3', 'Chapter 3', 'Chapter 3', 'Chapter 4', 'Chapter 4', 'Chapter 4', 'Chapter 4', 'Chapter 4', 'Chapter 4', 'Chapter 4', 'Chapter 4', 'Chapter 4', 'Chapter 4', 'Chapter 4', 'Chapter 4', 'Chapter 4', 'Chapter 4', 'Chapter 4', 'Chapter 4', 'Chapter 4', 'Chapter 4', 'Chapter 4', 'Chapter 4', 'Chapter 5', 'Chapter 5', 'Chapter 5', 'Chapter 5', 'Chapter 5', 'Chapter 5', 'Chapter 5', 'Chapter 5', 'Chapter 5', 'Chapter 5', 'Chapter 5', 'Chapter 5', 'Chapter 5', 'Chapter 5', 'Chapter 5', 'Chapter 5', 'Chapter 5', 'Chapter 5', 'Chapter 5', 'Chapter 5', 'Chapter 6', 'Chapter 6', 'Chapter 6', 'Chapter 6', 'Chapter 6', 'Chapter 6', 'Chapter 6', 'Chapter 6', 'Chapter 6', 'Chapter 6', 'Chapter 6', 'Chapter 6', 'Chapter 6', 'Chapter 6', 'Chapter 6', 'Chapter 6', 'Chapter 6', 'Chapter 6', 'Chapter 6', 'Chapter 6', 'Chapter 7', 'Chapter 7', 'Chapter 7', 'Chapter 7', 'Chapter 7', 'Chapter 7', 'Chapter 7', 'Chapter 7', 'Chapter 7', 'Chapter 7', 'Chapter 7', 'Chapter 7', 'Chapter 7', 'Chapter 7', 'Chapter 7', 'Chapter 7', 'Chapter 7', 'Chapter 7', 'Chapter 7', 'Chapter 7', 'Chapter 8', 'Chapter 8', 'Chapter 8', 'Chapter 8', 'Chapter 8', 'Chapter 8', 'Chapter 8', 'Chapter 8', 'Chapter 8', 'Chapter 8', 'Chapter 8', 'Chapter 8', 'Chapter 8', 'Chapter 8', 'Chapter 8', 'Chapter 8', 'Chapter 8', 'Chapter 8', 'Chapter 8', 'Chapter 8', 'Chapter 9', 'Chapter 9', 'Chapter 9', 'Chapter 9', 'Chapter 9', 'Chapter 9', 'Chapter 9', 'Chapter 9', 'Chapter 9', 'Chapter 9', 'Chapter 9', 'Chapter 9', 'Chapter 9', 'Chapter 9', 'Chapter 9', 'Chapter 9', 'Chapter 9', 'Chapter 9', 'Chapter 9', 'Chapter 9', 'Chapter 10', 'Chapter 10', 'Chapter 10', 'Chapter 10', 'Chapter 10', 'Chapter 10', 'Chapter 10', 'Chapter 10', 'Chapter 10', 'Chapter 10', 'Chapter 10', 'Chapter 10', 'Chapter 10', 'Chapter 10', 'Chapter 10', 'Chapter 10', 'Chapter 10', 'Chapter 10', 'Chapter 10', 'Chapter 10', 'Chapter 11', 'Chapter 11', 'Chapter 11', 'Chapter 11', 'Chapter 11', 'Chapter 11', 'Chapter 11', 'Chapter 11', 'Chapter 11', 'Chapter 11', 'Chapter 11', 'Chapter 11', 'Chapter 11', 'Chapter 11', 'Chapter 11', 'Chapter 11', 'Chapter 11', 'Chapter 11', 'Chapter 11', 'Chapter 11', 'Chapter 12', 'Chapter 12', 'Chapter 12', 'Chapter 12', 'Chapter 12', 'Chapter 12', 'Chapter 12', 'Chapter 12', 'Chapter 12', 'Chapter 12', 'Chapter 12', 'Chapter 12', 'Chapter 12', 'Chapter 12', 'Chapter 12', 'Chapter 12', 'Chapter 12', 'Chapter 12', 'Chapter 12', 'Chapter 12', 'Chapter 13', 'Chapter 13', 'Chapter 13', 'Chapter 13', 'Chapter 13', 'Chapter 13', 'Chapter 13', 'Chapter 13', 'Chapter 13', 'Chapter 13', 'Chapter 13', 'Chapter 13', 'Chapter 13', 'Chapter 13', 'Chapter 13', 'Chapter 13', 'Chapter 13', 'Chapter 13', 'Chapter 13', 'Chapter 13', 'Chapter 14', 'Chapter 14', 'Chapter 14', 'Chapter 14', 'Chapter 14', 'Chapter 14', 'Chapter 14', 'Chapter 14', 'Chapter 14', 'Chapter 14', 'Chapter 14', 'Chapter 14', 'Chapter 14', 'Chapter 14', 'Chapter 14', 'Chapter 14', 'Chapter 14', 'Chapter 14', 'Chapter 14', 'Chapter 14', 'Chapter 15', 'Chapter 15', 'Chapter 15', 'Chapter 15', 'Chapter 15', 'Chapter 15', 'Chapter 15', 'Chapter 15', 'Chapter 15', 'Chapter 15', 'Chapter 15', 'Chapter 15', 'Chapter 15', 'Chapter 15', 'Chapter 15', 'Chapter 15', 'Chapter 15', 'Chapter 15', 'Chapter 15', 'Chapter 15', 'Chapter 16', 'Chapter 16', 'Chapter 16', 'Chapter 16', 'Chapter 16', 'Chapter 16', 'Chapter 16', 'Chapter 16', 'Chapter 16', 'Chapter 16', 'Chapter 16', 'Chapter 16', 'Chapter 16', 'Chapter 16', 'Chapter 16', 'Chapter 16', 'Chapter 16', 'Chapter 16', 'Chapter 16', 'Chapter 16', 'Chapter 17', 'Chapter 17', 'Chapter 17', 'Chapter 17', 'Chapter 17', 'Chapter 17', 'Chapter 17', 'Chapter 17', 'Chapter 17', 'Chapter 17', 'Chapter 17', 'Chapter 17', 'Chapter 17', 'Chapter 17', 'Chapter 17', 'Chapter 17', 'Chapter 17', 'Chapter 17', 'Chapter 17', 'Chapter 17', 'Chapter 18', 'Chapter 18', 'Chapter 18', 'Chapter 18', 'Chapter 18', 'Chapter 18', 'Chapter 18', 'Chapter 18', 'Chapter 18', 'Chapter 18', 'Chapter 18', 'Chapter 18', 'Chapter 18', 'Chapter 18', 'Chapter 18', 'Chapter 18', 'Chapter 18', 'Chapter 18', 'Chapter 18', 'Chapter 18', 'Chapter 19', 'Chapter 19', 'Chapter 19', 'Chapter 19', 'Chapter 19', 'Chapter 19', 'Chapter 19', 'Chapter 19', 'Chapter 19', 'Chapter 19', 'Chapter 19', 'Chapter 19', 'Chapter 19', 'Chapter 19', 'Chapter 19', 'Chapter 19', 'Chapter 19', 'Chapter 19', 'Chapter 19', 'Chapter 19', 'Chapter 20', 'Chapter 20', 'Chapter 20', 'Chapter 20', 'Chapter 20', 'Chapter 20', 'Chapter 20', 'Chapter 20', 'Chapter 20', 'Chapter 20', 'Chapter 20', 'Chapter 20', 'Chapter 20', 'Chapter 20', 'Chapter 20', 'Chapter 20', 'Chapter 20', 'Chapter 20', 'Chapter 20', 'Chapter 20', 'Chapter 21', 'Chapter 21', 'Chapter 21', 'Chapter 21', 'Chapter 21', 'Chapter 21', 'Chapter 21', 'Chapter 21', 'Chapter 21', 'Chapter 21', 'Chapter 21', 'Chapter 21', 'Chapter 21', 'Chapter 21', 'Chapter 21', 'Chapter 21', 'Chapter 21', 'Chapter 21', 'Chapter 21', 'Chapter 21', 'Chapter 22', 'Chapter 22', 'Chapter 22', 'Chapter 22', 'Chapter 22', 'Chapter 22', 'Chapter 22', 'Chapter 22', 'Chapter 22', 'Chapter 22', 'Chapter 22', 'Chapter 22', 'Chapter 22', 'Chapter 22', 'Chapter 22', 'Chapter 22', 'Chapter 22', 'Chapter 22', 'Chapter 22', 'Chapter 22', 'Chapter 23', 'Chapter 23', 'Chapter 23', 'Chapter 23', 'Chapter 23', 'Chapter 23', 'Chapter 23', 'Chapter 23', 'Chapter 23', 'Chapter 23', 'Chapter 23', 'Chapter 23', 'Chapter 23', 'Chapter 23', 'Chapter 23', 'Chapter 23', 'Chapter 23', 'Chapter 23', 'Chapter 23', 'Chapter 23', 'Chapter 24', 'Chapter 24', 'Chapter 24', 'Chapter 24', 'Chapter 24', 'Chapter 24', 'Chapter 24', 'Chapter 24', 'Chapter 24', 'Chapter 24', 'Chapter 24', 'Chapter 24', 'Chapter 24', 'Chapter 24', 'Chapter 24', 'Chapter 24', 'Chapter 24', 'Chapter 24', 'Chapter 24', 'Chapter 24', 'Chapter 25', 'Chapter 25', 'Chapter 25', 'Chapter 25', 'Chapter 25', 'Chapter 25', 'Chapter 25', 'Chapter 25', 'Chapter 25', 'Chapter 25', 'Chapter 25', 'Chapter 25', 'Chapter 25', 'Chapter 25', 'Chapter 25', 'Chapter 25', 'Chapter 25', 'Chapter 25', 'Chapter 25', 'Chapter 25', 'Chapter 26', 'Chapter 26', 'Chapter 26', 'Chapter 26', 'Chapter 26', 'Chapter 26', 'Chapter 26', 'Chapter 26', 'Chapter 26', 'Chapter 26', 'Chapter 26', 'Chapter 26', 'Chapter 26', 'Chapter 26', 'Chapter 26', 'Chapter 26', 'Chapter 26', 'Chapter 26', 'Chapter 26', 'Chapter 26', 'Chapter 27', 'Chapter 27', 'Chapter 27', 'Chapter 27', 'Chapter 27', 'Chapter 27', 'Chapter 27', 'Chapter 27', 'Chapter 27', 'Chapter 27', 'Chapter 27', 'Chapter 27', 'Chapter 27', 'Chapter 27', 'Chapter 27', 'Chapter 27', 'Chapter 27', 'Chapter 27', 'Chapter 27', 'Chapter 27', 'Chapter 28', 'Chapter 28', 'Chapter 28', 'Chapter 28', 'Chapter 28', 'Chapter 28', 'Chapter 28', 'Chapter 28', 'Chapter 28', 'Chapter 28', 'Chapter 28', 'Chapter 28', 'Chapter 28', 'Chapter 28', 'Chapter 28', 'Chapter 28', 'Chapter 28', 'Chapter 28', 'Chapter 28', 'Chapter 28', 'Full Book', 'Full Book', 'Full Book', 'Full Book', 'Full Book', 'Full Book', 'Full Book', 'Full Book', 'Full Book', 'Full Book', 'Full Book', 'Full Book', 'Full Book', 'Full Book', 'Full Book', 'Full Book', 'Full Book', 'Full Book', 'Full Book', 'Full Book', 'Full Book', 'Full Book', 'Full Book', 'Full Book', 'Full Book', 'Full Book', 'Full Book', 'Full Book', 'Full Book', 'Full Book', 'Full Book', 'Full Book', 'Full Book', 'Full Book', 'Full Book', 'Full Book', 'Full Book', 'Full Book', 'Full Book', 'Full Book']\n",
      "['Summary & Inference', 'Summary & Inference', 'Summary & Inference', 'Summary & Inference', 'Summary & Inference', 'Summary & Inference', 'Summary & Inference', 'Summary & Inference', 'Summary & Inference', 'Summary & Inference', 'Detail Extraction', 'Detail Extraction', 'Detail Extraction', 'Detail Extraction', 'Detail Extraction', 'Detail Extraction', 'Detail Extraction', 'Detail Extraction', 'Detail Extraction', 'Detail Extraction', 'Summary & Inference', 'Summary & Inference', 'Summary & Inference', 'Summary & Inference', 'Summary & Inference', 'Summary & Inference', 'Summary & Inference', 'Summary & Inference', 'Summary & Inference', 'Summary & Inference', 'Detail Extraction', 'Detail Extraction', 'Detail Extraction', 'Detail Extraction', 'Detail Extraction', 'Detail Extraction', 'Detail Extraction', 'Detail Extraction', 'Detail Extraction', 'Detail Extraction', 'Summary & Inference', 'Summary & Inference', 'Summary & Inference', 'Summary & Inference', 'Summary & Inference', 'Summary & Inference', 'Summary & Inference', 'Summary & Inference', 'Summary & Inference', 'Summary & Inference', 'Detail Extraction', 'Detail Extraction', 'Detail Extraction', 'Detail Extraction', 'Detail Extraction', 'Detail Extraction', 'Detail Extraction', 'Detail Extraction', 'Detail Extraction', 'Detail Extraction', 'Summary & Inference', 'Summary & Inference', 'Summary & Inference', 'Summary & Inference', 'Summary & Inference', 'Summary & Inference', 'Summary & Inference', 'Summary & Inference', 'Summary & Inference', 'Summary & Inference', 'Detail Extraction', 'Detail Extraction', 'Detail Extraction', 'Detail Extraction', 'Detail Extraction', 'Detail Extraction', 'Detail Extraction', 'Detail Extraction', 'Detail Extraction', 'Detail Extraction', 'Summary & Inference', 'Summary & Inference', 'Summary & Inference', 'Summary & Inference', 'Summary & Inference', 'Summary & Inference', 'Summary & Inference', 'Summary & Inference', 'Summary & Inference', 'Summary & Inference', 'Detail Extraction', 'Detail Extraction', 'Detail Extraction', 'Detail Extraction', 'Detail Extraction', 'Detail Extraction', 'Detail Extraction', 'Detail Extraction', 'Detail Extraction', 'Detail Extraction', 'Summary & Inference', 'Summary & Inference', 'Summary & Inference', 'Summary & Inference', 'Summary & Inference', 'Summary & Inference', 'Summary & Inference', 'Summary & Inference', 'Summary & Inference', 'Summary & Inference', 'Detail Extraction', 'Detail Extraction', 'Detail Extraction', 'Detail Extraction', 'Detail Extraction', 'Detail Extraction', 'Detail Extraction', 'Detail Extraction', 'Detail Extraction', 'Detail Extraction', 'Summary & Inference', 'Summary & Inference', 'Summary & Inference', 'Summary & Inference', 'Summary & Inference', 'Summary & Inference', 'Summary & Inference', 'Summary & Inference', 'Summary & Inference', 'Summary & Inference', 'Detail Extraction', 'Detail Extraction', 'Detail Extraction', 'Detail Extraction', 'Detail Extraction', 'Detail Extraction', 'Detail Extraction', 'Detail Extraction', 'Detail Extraction', 'Detail Extraction', 'Summary & Inference', 'Summary & Inference', 'Summary & Inference', 'Summary & Inference', 'Summary & Inference', 'Summary & Inference', 'Summary & Inference', 'Summary & Inference', 'Summary & Inference', 'Summary & Inference', 'Detail Extraction', 'Detail Extraction', 'Detail Extraction', 'Detail Extraction', 'Detail Extraction', 'Detail Extraction', 'Detail Extraction', 'Detail Extraction', 'Detail Extraction', 'Detail Extraction', 'Summary & Inference', 'Summary & Inference', 'Summary & Inference', 'Summary & Inference', 'Summary & Inference', 'Summary & Inference', 'Summary & Inference', 'Summary & Inference', 'Summary & Inference', 'Summary & Inference', 'Detail Extraction', 'Detail Extraction', 'Detail Extraction', 'Detail Extraction', 'Detail Extraction', 'Detail Extraction', 'Detail Extraction', 'Detail Extraction', 'Detail Extraction', 'Detail Extraction', 'Summary & Inference', 'Summary & Inference', 'Summary & Inference', 'Summary & Inference', 'Summary & Inference', 'Summary & Inference', 'Summary & Inference', 'Summary & Inference', 'Summary & Inference', 'Summary & Inference', 'Detail Extraction', 'Detail Extraction', 'Detail Extraction', 'Detail Extraction', 'Detail Extraction', 'Detail Extraction', 'Detail Extraction', 'Detail Extraction', 'Detail Extraction', 'Detail Extraction', 'Summary & Inference', 'Summary & Inference', 'Summary & Inference', 'Summary & Inference', 'Summary & Inference', 'Summary & Inference', 'Summary & Inference', 'Summary & Inference', 'Summary & Inference', 'Summary & Inference', 'Detail Extraction', 'Detail Extraction', 'Detail Extraction', 'Detail Extraction', 'Detail Extraction', 'Detail Extraction', 'Detail Extraction', 'Detail Extraction', 'Detail Extraction', 'Detail Extraction', 'Summary & Inference', 'Summary & Inference', 'Summary & Inference', 'Summary & Inference', 'Summary & Inference', 'Summary & Inference', 'Summary & Inference', 'Summary & Inference', 'Summary & Inference', 'Summary & Inference', 'Detail Extraction', 'Detail Extraction', 'Detail Extraction', 'Detail Extraction', 'Detail Extraction', 'Detail Extraction', 'Detail Extraction', 'Detail Extraction', 'Detail Extraction', 'Detail Extraction', 'Summary & Inference', 'Summary & Inference', 'Summary & Inference', 'Summary & Inference', 'Summary & Inference', 'Summary & Inference', 'Summary & Inference', 'Summary & Inference', 'Summary & Inference', 'Summary & Inference', 'Detail Extraction', 'Detail Extraction', 'Detail Extraction', 'Detail Extraction', 'Detail Extraction', 'Detail Extraction', 'Detail Extraction', 'Detail Extraction', 'Detail Extraction', 'Detail Extraction', 'Summary & Inference', 'Summary & Inference', 'Summary & Inference', 'Summary & Inference', 'Summary & Inference', 'Summary & Inference', 'Summary & Inference', 'Summary & Inference', 'Summary & Inference', 'Summary & Inference', 'Detail Extraction', 'Detail Extraction', 'Detail Extraction', 'Detail Extraction', 'Detail Extraction', 'Detail Extraction', 'Detail Extraction', 'Detail Extraction', 'Detail Extraction', 'Detail Extraction', 'Summary & Inference', 'Summary & Inference', 'Summary & Inference', 'Summary & Inference', 'Summary & Inference', 'Summary & Inference', 'Summary & Inference', 'Summary & Inference', 'Summary & Inference', 'Summary & Inference', 'Detail Extraction', 'Detail Extraction', 'Detail Extraction', 'Detail Extraction', 'Detail Extraction', 'Detail Extraction', 'Detail Extraction', 'Detail Extraction', 'Detail Extraction', 'Detail Extraction', 'Summary & Inference', 'Summary & Inference', 'Summary & Inference', 'Summary & Inference', 'Summary & Inference', 'Summary & Inference', 'Summary & Inference', 'Summary & Inference', 'Summary & Inference', 'Summary & Inference', 'Detail Extraction', 'Detail Extraction', 'Detail Extraction', 'Detail Extraction', 'Detail Extraction', 'Detail Extraction', 'Detail Extraction', 'Detail Extraction', 'Detail Extraction', 'Detail Extraction', 'Summary & Inference', 'Summary & Inference', 'Summary & Inference', 'Summary & Inference', 'Summary & Inference', 'Summary & Inference', 'Summary & Inference', 'Summary & Inference', 'Summary & Inference', 'Summary & Inference', 'Detail Extraction', 'Detail Extraction', 'Detail Extraction', 'Detail Extraction', 'Detail Extraction', 'Detail Extraction', 'Detail Extraction', 'Detail Extraction', 'Detail Extraction', 'Detail Extraction', 'Summary & Inference', 'Summary & Inference', 'Summary & Inference', 'Summary & Inference', 'Summary & Inference', 'Summary & Inference', 'Summary & Inference', 'Summary & Inference', 'Summary & Inference', 'Summary & Inference', 'Detail Extraction', 'Detail Extraction', 'Detail Extraction', 'Detail Extraction', 'Detail Extraction', 'Detail Extraction', 'Detail Extraction', 'Detail Extraction', 'Detail Extraction', 'Detail Extraction', 'Summary & Inference', 'Summary & Inference', 'Summary & Inference', 'Summary & Inference', 'Summary & Inference', 'Summary & Inference', 'Summary & Inference', 'Summary & Inference', 'Summary & Inference', 'Summary & Inference', 'Detail Extraction', 'Detail Extraction', 'Detail Extraction', 'Detail Extraction', 'Detail Extraction', 'Detail Extraction', 'Detail Extraction', 'Detail Extraction', 'Detail Extraction', 'Detail Extraction', 'Summary & Inference', 'Summary & Inference', 'Summary & Inference', 'Summary & Inference', 'Summary & Inference', 'Summary & Inference', 'Summary & Inference', 'Summary & Inference', 'Summary & Inference', 'Summary & Inference', 'Detail Extraction', 'Detail Extraction', 'Detail Extraction', 'Detail Extraction', 'Detail Extraction', 'Detail Extraction', 'Detail Extraction', 'Detail Extraction', 'Detail Extraction', 'Detail Extraction', 'Summary & Inference', 'Summary & Inference', 'Summary & Inference', 'Summary & Inference', 'Summary & Inference', 'Summary & Inference', 'Summary & Inference', 'Summary & Inference', 'Summary & Inference', 'Summary & Inference', 'Detail Extraction', 'Detail Extraction', 'Detail Extraction', 'Detail Extraction', 'Detail Extraction', 'Detail Extraction', 'Detail Extraction', 'Detail Extraction', 'Detail Extraction', 'Detail Extraction', 'Summary & Inference', 'Summary & Inference', 'Summary & Inference', 'Summary & Inference', 'Summary & Inference', 'Summary & Inference', 'Summary & Inference', 'Summary & Inference', 'Summary & Inference', 'Summary & Inference', 'Detail Extraction', 'Detail Extraction', 'Detail Extraction', 'Detail Extraction', 'Detail Extraction', 'Detail Extraction', 'Detail Extraction', 'Detail Extraction', 'Detail Extraction', 'Detail Extraction', 'Summary & Inference', 'Summary & Inference', 'Summary & Inference', 'Summary & Inference', 'Summary & Inference', 'Summary & Inference', 'Summary & Inference', 'Summary & Inference', 'Summary & Inference', 'Summary & Inference', 'Detail Extraction', 'Detail Extraction', 'Detail Extraction', 'Detail Extraction', 'Detail Extraction', 'Detail Extraction', 'Detail Extraction', 'Detail Extraction', 'Detail Extraction', 'Detail Extraction', 'Summary & Inference', 'Summary & Inference', 'Summary & Inference', 'Summary & Inference', 'Summary & Inference', 'Summary & Inference', 'Summary & Inference', 'Summary & Inference', 'Summary & Inference', 'Summary & Inference', 'Detail Extraction', 'Detail Extraction', 'Detail Extraction', 'Detail Extraction', 'Detail Extraction', 'Detail Extraction', 'Detail Extraction', 'Detail Extraction', 'Detail Extraction', 'Detail Extraction', 'Summary & Inference', 'Summary & Inference', 'Summary & Inference', 'Summary & Inference', 'Summary & Inference', 'Summary & Inference', 'Summary & Inference', 'Summary & Inference', 'Summary & Inference', 'Summary & Inference', 'Detail Extraction', 'Detail Extraction', 'Detail Extraction', 'Detail Extraction', 'Detail Extraction', 'Detail Extraction', 'Detail Extraction', 'Detail Extraction', 'Detail Extraction', 'Detail Extraction', 'Summary & Inference', 'Summary & Inference', 'Summary & Inference', 'Summary & Inference', 'Summary & Inference', 'Summary & Inference', 'Summary & Inference', 'Summary & Inference', 'Summary & Inference', 'Summary & Inference', 'Detail Extraction', 'Detail Extraction', 'Detail Extraction', 'Detail Extraction', 'Detail Extraction', 'Detail Extraction', 'Detail Extraction', 'Detail Extraction', 'Detail Extraction', 'Detail Extraction', 'Summary & Inference', 'Summary & Inference', 'Summary & Inference', 'Summary & Inference', 'Summary & Inference', 'Summary & Inference', 'Summary & Inference', 'Summary & Inference', 'Summary & Inference', 'Summary & Inference', 'Detail Extraction', 'Detail Extraction', 'Detail Extraction', 'Detail Extraction', 'Detail Extraction', 'Detail Extraction', 'Detail Extraction', 'Detail Extraction', 'Detail Extraction', 'Detail Extraction', 'Summary & Inference', 'Summary & Inference', 'Summary & Inference', 'Summary & Inference', 'Summary & Inference', 'Summary & Inference', 'Summary & Inference', 'Summary & Inference', 'Summary & Inference', 'Summary & Inference', 'Detail Extraction', 'Detail Extraction', 'Detail Extraction', 'Detail Extraction', 'Detail Extraction', 'Detail Extraction', 'Detail Extraction', 'Detail Extraction', 'Detail Extraction', 'Detail Extraction', 'Summary & Inference', 'Summary & Inference', 'Summary & Inference', 'Summary & Inference', 'Summary & Inference', 'Summary & Inference', 'Summary & Inference', 'Summary & Inference', 'Summary & Inference', 'Summary & Inference', 'Summary & Inference', 'Summary & Inference', 'Summary & Inference', 'Summary & Inference', 'Summary & Inference', 'Summary & Inference', 'Summary & Inference', 'Summary & Inference', 'Summary & Inference', 'Summary & Inference', 'Detail Extraction', 'Detail Extraction', 'Detail Extraction', 'Detail Extraction', 'Detail Extraction', 'Detail Extraction', 'Detail Extraction', 'Detail Extraction', 'Detail Extraction', 'Detail Extraction', 'Detail Extraction', 'Detail Extraction', 'Detail Extraction', 'Detail Extraction', 'Detail Extraction', 'Detail Extraction', 'Detail Extraction', 'Detail Extraction', 'Detail Extraction', 'Detail Extraction']\n",
      "['training', 'training', 'training', 'training', 'training', 'training', 'training', 'training', 'validation', 'testing', 'training', 'training', 'training', 'training', 'training', 'training', 'training', 'training', 'validation', 'testing', 'training', 'training', 'training', 'training', 'training', 'training', 'training', 'training', 'validation', 'testing', 'training', 'training', 'training', 'training', 'training', 'training', 'training', 'training', 'validation', 'testing', 'training', 'training', 'training', 'training', 'training', 'training', 'training', 'training', 'validation', 'testing', 'training', 'training', 'training', 'training', 'training', 'training', 'training', 'training', 'validation', 'testing', 'training', 'training', 'training', 'training', 'training', 'training', 'training', 'training', 'validation', 'testing', 'training', 'training', 'training', 'training', 'training', 'training', 'training', 'training', 'validation', 'testing', 'training', 'training', 'training', 'training', 'training', 'training', 'training', 'training', 'validation', 'testing', 'training', 'training', 'training', 'training', 'training', 'training', 'training', 'training', 'validation', 'testing', 'training', 'training', 'training', 'training', 'training', 'training', 'training', 'training', 'validation', 'testing', 'training', 'training', 'training', 'training', 'training', 'training', 'training', 'training', 'validation', 'testing', 'training', 'training', 'training', 'training', 'training', 'training', 'training', 'training', 'validation', 'testing', 'training', 'training', 'training', 'training', 'training', 'training', 'training', 'training', 'validation', 'testing', 'training', 'training', 'training', 'training', 'training', 'training', 'training', 'training', 'validation', 'testing', 'training', 'training', 'training', 'training', 'training', 'training', 'training', 'training', 'validation', 'testing', 'training', 'training', 'training', 'training', 'training', 'training', 'training', 'training', 'validation', 'testing', 'training', 'training', 'training', 'training', 'training', 'training', 'training', 'training', 'validation', 'testing', 'training', 'training', 'training', 'training', 'training', 'training', 'training', 'training', 'validation', 'testing', 'training', 'training', 'training', 'training', 'training', 'training', 'training', 'training', 'validation', 'testing', 'training', 'training', 'training', 'training', 'training', 'training', 'training', 'training', 'validation', 'testing', 'training', 'training', 'training', 'training', 'training', 'training', 'training', 'training', 'validation', 'testing', 'training', 'training', 'training', 'training', 'training', 'training', 'training', 'training', 'validation', 'testing', 'training', 'training', 'training', 'training', 'training', 'training', 'training', 'training', 'validation', 'testing', 'training', 'training', 'training', 'training', 'training', 'training', 'training', 'training', 'validation', 'testing', 'training', 'training', 'training', 'training', 'training', 'training', 'training', 'training', 'validation', 'testing', 'training', 'training', 'training', 'training', 'training', 'training', 'training', 'training', 'validation', 'testing', 'training', 'training', 'training', 'training', 'training', 'training', 'training', 'training', 'validation', 'testing', 'training', 'training', 'training', 'training', 'training', 'training', 'training', 'training', 'validation', 'testing', 'training', 'training', 'training', 'training', 'training', 'training', 'training', 'training', 'validation', 'testing', 'training', 'training', 'training', 'training', 'training', 'training', 'training', 'training', 'validation', 'testing', 'training', 'training', 'training', 'training', 'training', 'training', 'training', 'training', 'validation', 'testing', 'training', 'training', 'training', 'training', 'training', 'training', 'training', 'training', 'validation', 'testing', 'training', 'training', 'training', 'training', 'training', 'training', 'training', 'training', 'validation', 'testing', 'training', 'training', 'training', 'training', 'training', 'training', 'training', 'training', 'validation', 'testing', 'training', 'training', 'training', 'training', 'training', 'training', 'training', 'training', 'validation', 'testing', 'training', 'training', 'training', 'training', 'training', 'training', 'training', 'training', 'validation', 'testing', 'training', 'training', 'training', 'training', 'training', 'training', 'training', 'training', 'validation', 'testing', 'training', 'training', 'training', 'training', 'training', 'training', 'training', 'training', 'validation', 'testing', 'training', 'training', 'training', 'training', 'training', 'training', 'training', 'training', 'validation', 'testing', 'training', 'training', 'training', 'training', 'training', 'training', 'training', 'training', 'validation', 'testing', 'training', 'training', 'training', 'training', 'training', 'training', 'training', 'training', 'validation', 'testing', 'training', 'training', 'training', 'training', 'training', 'training', 'training', 'training', 'validation', 'testing', 'training', 'training', 'training', 'training', 'training', 'training', 'training', 'training', 'validation', 'testing', 'training', 'training', 'training', 'training', 'training', 'training', 'training', 'training', 'validation', 'testing', 'training', 'training', 'training', 'training', 'training', 'training', 'training', 'training', 'validation', 'testing', 'training', 'training', 'training', 'training', 'training', 'training', 'training', 'training', 'validation', 'testing', 'training', 'training', 'training', 'training', 'training', 'training', 'training', 'training', 'validation', 'testing', 'training', 'training', 'training', 'training', 'training', 'training', 'training', 'training', 'validation', 'testing', 'training', 'training', 'training', 'training', 'training', 'training', 'training', 'training', 'validation', 'testing', 'training', 'training', 'training', 'training', 'training', 'training', 'training', 'training', 'validation', 'testing', 'training', 'training', 'training', 'training', 'training', 'training', 'training', 'training', 'validation', 'testing', 'training', 'training', 'training', 'training', 'training', 'training', 'training', 'training', 'validation', 'testing', 'training', 'training', 'training', 'training', 'training', 'training', 'training', 'training', 'validation', 'testing', 'training', 'training', 'training', 'training', 'training', 'training', 'training', 'training', 'validation', 'testing', 'training', 'training', 'training', 'training', 'training', 'training', 'training', 'training', 'validation', 'testing', 'training', 'training', 'training', 'training', 'training', 'training', 'training', 'training', 'validation', 'testing', 'training', 'training', 'training', 'training', 'training', 'training', 'training', 'training', 'validation', 'testing', 'training', 'training', 'training', 'training', 'training', 'training', 'training', 'training', 'training', 'training', 'training', 'training', 'training', 'training', 'training', 'training', 'validation', 'validation', 'testing', 'testing']\n"
     ]
    }
   ],
   "source": [
    "dataset_chapter = dataset['train']['chapter']\n",
    "dataset_type = dataset['train']['type']\n",
    "dataset_set = dataset['train']['set']\n",
    "print(dataset_chapter)\n",
    "print(dataset_type)\n",
    "print(dataset_set)"
   ]
  },
  {
   "cell_type": "code",
   "execution_count": 24,
   "id": "0711e8aa",
   "metadata": {},
   "outputs": [
    {
     "name": "stdout",
     "output_type": "stream",
     "text": [
      "{'Chapter 1': 20, 'Chapter 2': 20, 'Chapter 3': 20, 'Chapter 4': 20, 'Chapter 5': 20, 'Chapter 6': 20, 'Chapter 7': 20, 'Chapter 8': 20, 'Chapter 9': 20, 'Chapter 10': 20, 'Chapter 11': 20, 'Chapter 12': 20, 'Chapter 13': 20, 'Chapter 14': 20, 'Chapter 15': 20, 'Chapter 16': 20, 'Chapter 17': 20, 'Chapter 18': 20, 'Chapter 19': 20, 'Chapter 20': 20, 'Chapter 21': 20, 'Chapter 22': 20, 'Chapter 23': 20, 'Chapter 24': 20, 'Chapter 25': 20, 'Chapter 26': 20, 'Chapter 27': 20, 'Chapter 28': 20, 'Full Book': 40}\n"
     ]
    }
   ],
   "source": [
    "chapter_counts  = {}\n",
    "for chapter in dataset_chapter:\n",
    "    chapter_counts[chapter] = chapter_counts.get(chapter, 0) + 1\n",
    "print(chapter_counts)"
   ]
  },
  {
   "cell_type": "code",
   "execution_count": 27,
   "id": "19bf0fa8",
   "metadata": {},
   "outputs": [
    {
     "name": "stdout",
     "output_type": "stream",
     "text": [
      "{'Summary & Inference': 300, 'Detail Extraction': 300}\n"
     ]
    }
   ],
   "source": [
    "type_counts  = {}\n",
    "for type in dataset_type:\n",
    "    type_counts[type] = type_counts.get(type, 0) + 1\n",
    "print(type_counts)"
   ]
  },
  {
   "cell_type": "code",
   "execution_count": 29,
   "id": "3b96440d",
   "metadata": {},
   "outputs": [
    {
     "name": "stdout",
     "output_type": "stream",
     "text": [
      "{'training': 480, 'validation': 60, 'testing': 60}\n"
     ]
    }
   ],
   "source": [
    "set_counts  = {}\n",
    "for set in dataset_set:\n",
    "    set_counts[set] = set_counts.get(set, 0) + 1\n",
    "print(set_counts)"
   ]
  },
  {
   "cell_type": "markdown",
   "id": "59b16187",
   "metadata": {},
   "source": [
    "### Data Splitting"
   ]
  },
  {
   "cell_type": "code",
   "execution_count": 36,
   "id": "8316d9e4",
   "metadata": {},
   "outputs": [
    {
     "data": {
      "text/plain": [
       "Dataset({\n",
       "    features: ['id', 'type', 'chapter', 'set', 'question', 'answer'],\n",
       "    num_rows: 600\n",
       "})"
      ]
     },
     "execution_count": 36,
     "metadata": {},
     "output_type": "execute_result"
    }
   ],
   "source": [
    "tuning_set = dataset['train']\n",
    "tuning_set"
   ]
  },
  {
   "cell_type": "code",
   "execution_count": 37,
   "id": "904bcb75",
   "metadata": {},
   "outputs": [
    {
     "data": {
      "text/html": [
       "<div>\n",
       "<style scoped>\n",
       "    .dataframe tbody tr th:only-of-type {\n",
       "        vertical-align: middle;\n",
       "    }\n",
       "\n",
       "    .dataframe tbody tr th {\n",
       "        vertical-align: top;\n",
       "    }\n",
       "\n",
       "    .dataframe thead th {\n",
       "        text-align: right;\n",
       "    }\n",
       "</style>\n",
       "<table border=\"1\" class=\"dataframe\">\n",
       "  <thead>\n",
       "    <tr style=\"text-align: right;\">\n",
       "      <th></th>\n",
       "      <th>id</th>\n",
       "      <th>type</th>\n",
       "      <th>chapter</th>\n",
       "      <th>set</th>\n",
       "      <th>question</th>\n",
       "      <th>answer</th>\n",
       "    </tr>\n",
       "  </thead>\n",
       "  <tbody>\n",
       "    <tr>\n",
       "      <th>0</th>\n",
       "      <td>Ch1_SumInf_001_Train</td>\n",
       "      <td>Summary &amp; Inference</td>\n",
       "      <td>Chapter 1</td>\n",
       "      <td>training</td>\n",
       "      <td>What is Haymitch's initial attitude towards hi...</td>\n",
       "      <td>{'chain_of_thought': ['Identify Haymitch's ini...</td>\n",
       "    </tr>\n",
       "    <tr>\n",
       "      <th>1</th>\n",
       "      <td>Ch1_SumInf_002_Train</td>\n",
       "      <td>Summary &amp; Inference</td>\n",
       "      <td>Chapter 1</td>\n",
       "      <td>training</td>\n",
       "      <td>Haymitch plans to spend his afternoon after fi...</td>\n",
       "      <td>{'chain_of_thought': ['Identify the two things...</td>\n",
       "    </tr>\n",
       "    <tr>\n",
       "      <th>2</th>\n",
       "      <td>Ch1_SumInf_003_Train</td>\n",
       "      <td>Summary &amp; Inference</td>\n",
       "      <td>Chapter 1</td>\n",
       "      <td>training</td>\n",
       "      <td>How does Lenore Dove's perspective on the Mead...</td>\n",
       "      <td>{'chain_of_thought': ['Identify how 'most peop...</td>\n",
       "    </tr>\n",
       "    <tr>\n",
       "      <th>3</th>\n",
       "      <td>Ch1_SumInf_004_Train</td>\n",
       "      <td>Summary &amp; Inference</td>\n",
       "      <td>Chapter 1</td>\n",
       "      <td>training</td>\n",
       "      <td>Lenore Dove's name is explained by her, connec...</td>\n",
       "      <td>{'chain_of_thought': ['Recall Lenore Dove's ex...</td>\n",
       "    </tr>\n",
       "    <tr>\n",
       "      <th>4</th>\n",
       "      <td>Ch1_SumInf_005_Train</td>\n",
       "      <td>Summary &amp; Inference</td>\n",
       "      <td>Chapter 1</td>\n",
       "      <td>training</td>\n",
       "      <td>Haymitch states, 'I didn't say it was just bec...</td>\n",
       "      <td>{'chain_of_thought': ['Identify Lenore Dove's ...</td>\n",
       "    </tr>\n",
       "    <tr>\n",
       "      <th>...</th>\n",
       "      <td>...</td>\n",
       "      <td>...</td>\n",
       "      <td>...</td>\n",
       "      <td>...</td>\n",
       "      <td>...</td>\n",
       "      <td>...</td>\n",
       "    </tr>\n",
       "    <tr>\n",
       "      <th>595</th>\n",
       "      <td>FullBook_DetExt_016_Train</td>\n",
       "      <td>Detail Extraction</td>\n",
       "      <td>Full Book</td>\n",
       "      <td>training</td>\n",
       "      <td>What is the symbolic implication of the 'mecha...</td>\n",
       "      <td>{'chain_of_thought': ['Identify the sound: 'A ...</td>\n",
       "    </tr>\n",
       "    <tr>\n",
       "      <th>596</th>\n",
       "      <td>FullBook_DetExt_017_Validation</td>\n",
       "      <td>Detail Extraction</td>\n",
       "      <td>Full Book</td>\n",
       "      <td>validation</td>\n",
       "      <td>What specific item is Maysilee seen using to r...</td>\n",
       "      <td>{'chain_of_thought': ['Locate the scene after ...</td>\n",
       "    </tr>\n",
       "    <tr>\n",
       "      <th>597</th>\n",
       "      <td>FullBook_DetExt_018_Validation</td>\n",
       "      <td>Detail Extraction</td>\n",
       "      <td>Full Book</td>\n",
       "      <td>validation</td>\n",
       "      <td>What is the nickname for the Capitol store bee...</td>\n",
       "      <td>{'chain_of_thought': ['Locate the scene where ...</td>\n",
       "    </tr>\n",
       "    <tr>\n",
       "      <th>598</th>\n",
       "      <td>FullBook_DetExt_019_Testing</td>\n",
       "      <td>Detail Extraction</td>\n",
       "      <td>Full Book</td>\n",
       "      <td>testing</td>\n",
       "      <td>What is the primary method of movement for the...</td>\n",
       "      <td>{'chain_of_thought': ['Locate the description ...</td>\n",
       "    </tr>\n",
       "    <tr>\n",
       "      <th>599</th>\n",
       "      <td>FullBook_DetExt_020_Testing</td>\n",
       "      <td>Detail Extraction</td>\n",
       "      <td>Full Book</td>\n",
       "      <td>testing</td>\n",
       "      <td>What are the two specific items of jewelry tha...</td>\n",
       "      <td>{'chain_of_thought': ['Locate the description ...</td>\n",
       "    </tr>\n",
       "  </tbody>\n",
       "</table>\n",
       "<p>600 rows × 6 columns</p>\n",
       "</div>"
      ],
      "text/plain": [
       "                                 id                 type    chapter  \\\n",
       "0              Ch1_SumInf_001_Train  Summary & Inference  Chapter 1   \n",
       "1              Ch1_SumInf_002_Train  Summary & Inference  Chapter 1   \n",
       "2              Ch1_SumInf_003_Train  Summary & Inference  Chapter 1   \n",
       "3              Ch1_SumInf_004_Train  Summary & Inference  Chapter 1   \n",
       "4              Ch1_SumInf_005_Train  Summary & Inference  Chapter 1   \n",
       "..                              ...                  ...        ...   \n",
       "595       FullBook_DetExt_016_Train    Detail Extraction  Full Book   \n",
       "596  FullBook_DetExt_017_Validation    Detail Extraction  Full Book   \n",
       "597  FullBook_DetExt_018_Validation    Detail Extraction  Full Book   \n",
       "598     FullBook_DetExt_019_Testing    Detail Extraction  Full Book   \n",
       "599     FullBook_DetExt_020_Testing    Detail Extraction  Full Book   \n",
       "\n",
       "            set                                           question  \\\n",
       "0      training  What is Haymitch's initial attitude towards hi...   \n",
       "1      training  Haymitch plans to spend his afternoon after fi...   \n",
       "2      training  How does Lenore Dove's perspective on the Mead...   \n",
       "3      training  Lenore Dove's name is explained by her, connec...   \n",
       "4      training  Haymitch states, 'I didn't say it was just bec...   \n",
       "..          ...                                                ...   \n",
       "595    training  What is the symbolic implication of the 'mecha...   \n",
       "596  validation  What specific item is Maysilee seen using to r...   \n",
       "597  validation  What is the nickname for the Capitol store bee...   \n",
       "598     testing  What is the primary method of movement for the...   \n",
       "599     testing  What are the two specific items of jewelry tha...   \n",
       "\n",
       "                                                answer  \n",
       "0    {'chain_of_thought': ['Identify Haymitch's ini...  \n",
       "1    {'chain_of_thought': ['Identify the two things...  \n",
       "2    {'chain_of_thought': ['Identify how 'most peop...  \n",
       "3    {'chain_of_thought': ['Recall Lenore Dove's ex...  \n",
       "4    {'chain_of_thought': ['Identify Lenore Dove's ...  \n",
       "..                                                 ...  \n",
       "595  {'chain_of_thought': ['Identify the sound: 'A ...  \n",
       "596  {'chain_of_thought': ['Locate the scene after ...  \n",
       "597  {'chain_of_thought': ['Locate the scene where ...  \n",
       "598  {'chain_of_thought': ['Locate the description ...  \n",
       "599  {'chain_of_thought': ['Locate the description ...  \n",
       "\n",
       "[600 rows x 6 columns]"
      ]
     },
     "execution_count": 37,
     "metadata": {},
     "output_type": "execute_result"
    }
   ],
   "source": [
    "tuning_set = dataset['train']\n",
    "tuning_df = pd.DataFrame(\n",
    "    {\n",
    "        'id':tuning_set['id'],\n",
    "        'type': tuning_set['type'],\n",
    "        'chapter':tuning_set['chapter'],\n",
    "        'set':tuning_set['set'],\n",
    "        'question': tuning_set['question'],\n",
    "        'answer':tuning_set['answer']\n",
    "    }\n",
    ")\n",
    "tuning_df"
   ]
  },
  {
   "cell_type": "code",
   "execution_count": 39,
   "id": "52b0d6c8",
   "metadata": {},
   "outputs": [],
   "source": [
    "traning_df = tuning_df[tuning_df['set'] == 'training']\n",
    "val_df = tuning_df[tuning_df['set'] == 'validation']\n",
    "test_df = tuning_df[tuning_df['set'] == 'testing']"
   ]
  },
  {
   "cell_type": "markdown",
   "id": "257ece99",
   "metadata": {},
   "source": [
    "### Store to JSON"
   ]
  },
  {
   "cell_type": "code",
   "execution_count": 45,
   "id": "6c085383",
   "metadata": {},
   "outputs": [
    {
     "name": "stdout",
     "output_type": "stream",
     "text": [
      "Successfully saved train_data to train_data.json!\n",
      "Successfully saved val_data to val_data.json!\n",
      "Successfully saved test_data to test_data.json!\n"
     ]
    }
   ],
   "source": [
    "# to data frame\n",
    "\n",
    "# stroe to json files\n",
    "traning_df.to_json(\"train_data.json\", orient=\"records\", lines=True, force_ascii=False)\n",
    "val_df.to_json(\"val_data.json\", orient=\"records\", lines=True, force_ascii=False)\n",
    "test_df.to_json(\"test_data.json\", orient=\"records\", lines=True, force_ascii=False)\n",
    "\n",
    "\n",
    "print(\"Successfully saved train_data to train_data.json!\")\n",
    "print(\"Successfully saved val_data to val_data.json!\")\n",
    "print(\"Successfully saved test_data to test_data.json!\")"
   ]
  },
  {
   "cell_type": "code",
   "execution_count": null,
   "id": "d0856e41",
   "metadata": {},
   "outputs": [],
   "source": []
  }
 ],
 "metadata": {
  "kernelspec": {
   "display_name": "base",
   "language": "python",
   "name": "python3"
  },
  "language_info": {
   "codemirror_mode": {
    "name": "ipython",
    "version": 3
   },
   "file_extension": ".py",
   "mimetype": "text/x-python",
   "name": "python",
   "nbconvert_exporter": "python",
   "pygments_lexer": "ipython3",
   "version": "3.12.3"
  }
 },
 "nbformat": 4,
 "nbformat_minor": 5
}
