{
 "cells": [
  {
   "cell_type": "markdown",
   "id": "e2afd2ac",
   "metadata": {},
   "source": [
    "### Install and Import Packages"
   ]
  },
  {
   "cell_type": "code",
   "execution_count": 6,
   "id": "fb7f218a",
   "metadata": {},
   "outputs": [
    {
     "name": "stdout",
     "output_type": "stream",
     "text": [
      "Requirement already satisfied: ipykernel in c:\\users\\ivan ng\\appdata\\roaming\\python\\python312\\site-packages (from -r ..\\requirements.txt (line 1)) (6.29.5)\n",
      "Requirement already satisfied: PyPDF2 in d:\\anaconda3\\lib\\site-packages (from -r ..\\requirements.txt (line 2)) (3.0.1)\n",
      "Requirement already satisfied: chromadb in d:\\anaconda3\\lib\\site-packages (from -r ..\\requirements.txt (line 3)) (1.0.12)\n",
      "Requirement already satisfied: transformers in d:\\anaconda3\\lib\\site-packages (from -r ..\\requirements.txt (line 4)) (4.52.4)\n",
      "Requirement already satisfied: torch in d:\\anaconda3\\lib\\site-packages (from -r ..\\requirements.txt (line 5)) (2.7.0+cu126)\n",
      "Requirement already satisfied: numpy in d:\\anaconda3\\lib\\site-packages (from -r ..\\requirements.txt (line 6)) (1.26.4)\n",
      "Requirement already satisfied: pandas in d:\\anaconda3\\lib\\site-packages (from -r ..\\requirements.txt (line 7)) (2.2.3)\n",
      "Requirement already satisfied: sentence_transformers in d:\\anaconda3\\lib\\site-packages (from -r ..\\requirements.txt (line 8)) (4.1.0)\n",
      "Requirement already satisfied: peft in d:\\anaconda3\\lib\\site-packages (from -r ..\\requirements.txt (line 9)) (0.15.2)\n",
      "Requirement already satisfied: accelerate in d:\\anaconda3\\lib\\site-packages (from -r ..\\requirements.txt (line 10)) (1.7.0)\n",
      "Requirement already satisfied: bitsandbytes in d:\\anaconda3\\lib\\site-packages (from -r ..\\requirements.txt (line 11)) (0.46.0)\n",
      "Requirement already satisfied: datasets in d:\\anaconda3\\lib\\site-packages (from -r ..\\requirements.txt (line 12)) (3.6.0)\n",
      "Requirement already satisfied: langchain in d:\\anaconda3\\lib\\site-packages (from -r ..\\requirements.txt (line 13)) (0.3.25)\n",
      "Requirement already satisfied: langchain-core in d:\\anaconda3\\lib\\site-packages (from -r ..\\requirements.txt (line 14)) (0.3.63)\n",
      "Requirement already satisfied: comm>=0.1.1 in c:\\users\\ivan ng\\appdata\\roaming\\python\\python312\\site-packages (from ipykernel->-r ..\\requirements.txt (line 1)) (0.2.2)\n",
      "Requirement already satisfied: debugpy>=1.6.5 in c:\\users\\ivan ng\\appdata\\roaming\\python\\python312\\site-packages (from ipykernel->-r ..\\requirements.txt (line 1)) (1.8.14)\n",
      "Requirement already satisfied: ipython>=7.23.1 in c:\\users\\ivan ng\\appdata\\roaming\\python\\python312\\site-packages (from ipykernel->-r ..\\requirements.txt (line 1)) (9.2.0)\n",
      "Requirement already satisfied: jupyter-client>=6.1.12 in c:\\users\\ivan ng\\appdata\\roaming\\python\\python312\\site-packages (from ipykernel->-r ..\\requirements.txt (line 1)) (8.6.3)\n",
      "Requirement already satisfied: jupyter-core!=5.0.*,>=4.12 in c:\\users\\ivan ng\\appdata\\roaming\\python\\python312\\site-packages (from ipykernel->-r ..\\requirements.txt (line 1)) (5.8.1)\n",
      "Requirement already satisfied: matplotlib-inline>=0.1 in c:\\users\\ivan ng\\appdata\\roaming\\python\\python312\\site-packages (from ipykernel->-r ..\\requirements.txt (line 1)) (0.1.7)\n",
      "Requirement already satisfied: nest-asyncio in c:\\users\\ivan ng\\appdata\\roaming\\python\\python312\\site-packages (from ipykernel->-r ..\\requirements.txt (line 1)) (1.6.0)\n",
      "Requirement already satisfied: packaging in d:\\anaconda3\\lib\\site-packages (from ipykernel->-r ..\\requirements.txt (line 1)) (24.1)\n",
      "Requirement already satisfied: psutil in c:\\users\\ivan ng\\appdata\\roaming\\python\\python312\\site-packages (from ipykernel->-r ..\\requirements.txt (line 1)) (7.0.0)\n",
      "Requirement already satisfied: pyzmq>=24 in c:\\users\\ivan ng\\appdata\\roaming\\python\\python312\\site-packages (from ipykernel->-r ..\\requirements.txt (line 1)) (26.4.0)\n",
      "Requirement already satisfied: tornado>=6.1 in c:\\users\\ivan ng\\appdata\\roaming\\python\\python312\\site-packages (from ipykernel->-r ..\\requirements.txt (line 1)) (6.5.1)\n",
      "Requirement already satisfied: traitlets>=5.4.0 in c:\\users\\ivan ng\\appdata\\roaming\\python\\python312\\site-packages (from ipykernel->-r ..\\requirements.txt (line 1)) (5.14.3)\n",
      "Requirement already satisfied: build>=1.0.3 in d:\\anaconda3\\lib\\site-packages (from chromadb->-r ..\\requirements.txt (line 3)) (1.2.2.post1)\n",
      "Requirement already satisfied: pydantic>=1.9 in d:\\anaconda3\\lib\\site-packages (from chromadb->-r ..\\requirements.txt (line 3)) (2.11.5)\n",
      "Requirement already satisfied: fastapi==0.115.9 in d:\\anaconda3\\lib\\site-packages (from chromadb->-r ..\\requirements.txt (line 3)) (0.115.9)\n",
      "Requirement already satisfied: uvicorn>=0.18.3 in d:\\anaconda3\\lib\\site-packages (from uvicorn[standard]>=0.18.3->chromadb->-r ..\\requirements.txt (line 3)) (0.34.3)\n",
      "Requirement already satisfied: posthog>=2.4.0 in d:\\anaconda3\\lib\\site-packages (from chromadb->-r ..\\requirements.txt (line 3)) (4.2.0)\n",
      "Requirement already satisfied: typing-extensions>=4.5.0 in d:\\anaconda3\\lib\\site-packages (from chromadb->-r ..\\requirements.txt (line 3)) (4.14.0)\n",
      "Requirement already satisfied: onnxruntime>=1.14.1 in d:\\anaconda3\\lib\\site-packages (from chromadb->-r ..\\requirements.txt (line 3)) (1.22.0)\n",
      "Requirement already satisfied: opentelemetry-api>=1.2.0 in d:\\anaconda3\\lib\\site-packages (from chromadb->-r ..\\requirements.txt (line 3)) (1.33.1)\n",
      "Requirement already satisfied: opentelemetry-exporter-otlp-proto-grpc>=1.2.0 in d:\\anaconda3\\lib\\site-packages (from chromadb->-r ..\\requirements.txt (line 3)) (1.33.1)\n",
      "Requirement already satisfied: opentelemetry-instrumentation-fastapi>=0.41b0 in d:\\anaconda3\\lib\\site-packages (from chromadb->-r ..\\requirements.txt (line 3)) (0.54b1)\n",
      "Requirement already satisfied: opentelemetry-sdk>=1.2.0 in d:\\anaconda3\\lib\\site-packages (from chromadb->-r ..\\requirements.txt (line 3)) (1.33.1)\n",
      "Requirement already satisfied: tokenizers>=0.13.2 in d:\\anaconda3\\lib\\site-packages (from chromadb->-r ..\\requirements.txt (line 3)) (0.21.1)\n",
      "Requirement already satisfied: pypika>=0.48.9 in d:\\anaconda3\\lib\\site-packages (from chromadb->-r ..\\requirements.txt (line 3)) (0.48.9)\n",
      "Requirement already satisfied: tqdm>=4.65.0 in d:\\anaconda3\\lib\\site-packages (from chromadb->-r ..\\requirements.txt (line 3)) (4.66.5)\n",
      "Requirement already satisfied: overrides>=7.3.1 in d:\\anaconda3\\lib\\site-packages (from chromadb->-r ..\\requirements.txt (line 3)) (7.4.0)\n",
      "Requirement already satisfied: importlib-resources in d:\\anaconda3\\lib\\site-packages (from chromadb->-r ..\\requirements.txt (line 3)) (6.5.2)\n",
      "Requirement already satisfied: grpcio>=1.58.0 in d:\\anaconda3\\lib\\site-packages (from chromadb->-r ..\\requirements.txt (line 3)) (1.72.1)\n",
      "Requirement already satisfied: bcrypt>=4.0.1 in d:\\anaconda3\\lib\\site-packages (from chromadb->-r ..\\requirements.txt (line 3)) (4.3.0)\n",
      "Requirement already satisfied: typer>=0.9.0 in d:\\anaconda3\\lib\\site-packages (from chromadb->-r ..\\requirements.txt (line 3)) (0.16.0)\n",
      "Requirement already satisfied: kubernetes>=28.1.0 in d:\\anaconda3\\lib\\site-packages (from chromadb->-r ..\\requirements.txt (line 3)) (32.0.1)\n",
      "Requirement already satisfied: tenacity>=8.2.3 in d:\\anaconda3\\lib\\site-packages (from chromadb->-r ..\\requirements.txt (line 3)) (8.2.3)\n",
      "Requirement already satisfied: pyyaml>=6.0.0 in d:\\anaconda3\\lib\\site-packages (from chromadb->-r ..\\requirements.txt (line 3)) (6.0.1)\n",
      "Requirement already satisfied: mmh3>=4.0.1 in d:\\anaconda3\\lib\\site-packages (from chromadb->-r ..\\requirements.txt (line 3)) (5.1.0)\n",
      "Requirement already satisfied: orjson>=3.9.12 in d:\\anaconda3\\lib\\site-packages (from chromadb->-r ..\\requirements.txt (line 3)) (3.10.18)\n",
      "Requirement already satisfied: httpx>=0.27.0 in d:\\anaconda3\\lib\\site-packages (from chromadb->-r ..\\requirements.txt (line 3)) (0.27.0)\n",
      "Requirement already satisfied: rich>=10.11.0 in d:\\anaconda3\\lib\\site-packages (from chromadb->-r ..\\requirements.txt (line 3)) (14.0.0)\n",
      "Requirement already satisfied: jsonschema>=4.19.0 in d:\\anaconda3\\lib\\site-packages (from chromadb->-r ..\\requirements.txt (line 3)) (4.23.0)\n",
      "Requirement already satisfied: starlette<0.46.0,>=0.40.0 in d:\\anaconda3\\lib\\site-packages (from fastapi==0.115.9->chromadb->-r ..\\requirements.txt (line 3)) (0.45.3)\n",
      "Requirement already satisfied: annotated-types>=0.6.0 in d:\\anaconda3\\lib\\site-packages (from pydantic>=1.9->chromadb->-r ..\\requirements.txt (line 3)) (0.6.0)\n",
      "Requirement already satisfied: pydantic-core==2.33.2 in d:\\anaconda3\\lib\\site-packages (from pydantic>=1.9->chromadb->-r ..\\requirements.txt (line 3)) (2.33.2)\n",
      "Requirement already satisfied: typing-inspection>=0.4.0 in d:\\anaconda3\\lib\\site-packages (from pydantic>=1.9->chromadb->-r ..\\requirements.txt (line 3)) (0.4.1)\n",
      "Requirement already satisfied: anyio<5,>=3.6.2 in d:\\anaconda3\\lib\\site-packages (from starlette<0.46.0,>=0.40.0->fastapi==0.115.9->chromadb->-r ..\\requirements.txt (line 3)) (4.9.0)\n",
      "Requirement already satisfied: idna>=2.8 in d:\\anaconda3\\lib\\site-packages (from anyio<5,>=3.6.2->starlette<0.46.0,>=0.40.0->fastapi==0.115.9->chromadb->-r ..\\requirements.txt (line 3)) (3.7)\n",
      "Requirement already satisfied: sniffio>=1.1 in d:\\anaconda3\\lib\\site-packages (from anyio<5,>=3.6.2->starlette<0.46.0,>=0.40.0->fastapi==0.115.9->chromadb->-r ..\\requirements.txt (line 3)) (1.3.0)\n",
      "Requirement already satisfied: filelock in d:\\anaconda3\\lib\\site-packages (from transformers->-r ..\\requirements.txt (line 4)) (3.13.1)\n",
      "Requirement already satisfied: huggingface-hub<1.0,>=0.30.0 in d:\\anaconda3\\lib\\site-packages (from transformers->-r ..\\requirements.txt (line 4)) (0.32.4)\n",
      "Requirement already satisfied: regex!=2019.12.17 in d:\\anaconda3\\lib\\site-packages (from transformers->-r ..\\requirements.txt (line 4)) (2024.9.11)\n",
      "Requirement already satisfied: requests in d:\\anaconda3\\lib\\site-packages (from transformers->-r ..\\requirements.txt (line 4)) (2.32.3)\n",
      "Requirement already satisfied: safetensors>=0.4.3 in d:\\anaconda3\\lib\\site-packages (from transformers->-r ..\\requirements.txt (line 4)) (0.5.3)\n",
      "Requirement already satisfied: fsspec>=2023.5.0 in d:\\anaconda3\\lib\\site-packages (from huggingface-hub<1.0,>=0.30.0->transformers->-r ..\\requirements.txt (line 4)) (2025.3.0)\n",
      "Requirement already satisfied: sympy>=1.13.3 in d:\\anaconda3\\lib\\site-packages (from torch->-r ..\\requirements.txt (line 5)) (1.13.3)\n",
      "Requirement already satisfied: networkx in d:\\anaconda3\\lib\\site-packages (from torch->-r ..\\requirements.txt (line 5)) (3.3)\n",
      "Requirement already satisfied: jinja2 in d:\\anaconda3\\lib\\site-packages (from torch->-r ..\\requirements.txt (line 5)) (3.1.4)\n",
      "Requirement already satisfied: setuptools in d:\\anaconda3\\lib\\site-packages (from torch->-r ..\\requirements.txt (line 5)) (75.1.0)\n",
      "Requirement already satisfied: python-dateutil>=2.8.2 in c:\\users\\ivan ng\\appdata\\roaming\\python\\python312\\site-packages (from pandas->-r ..\\requirements.txt (line 7)) (2.9.0.post0)\n",
      "Requirement already satisfied: pytz>=2020.1 in d:\\anaconda3\\lib\\site-packages (from pandas->-r ..\\requirements.txt (line 7)) (2025.2)\n",
      "Requirement already satisfied: tzdata>=2022.7 in d:\\anaconda3\\lib\\site-packages (from pandas->-r ..\\requirements.txt (line 7)) (2023.3)\n",
      "Requirement already satisfied: scikit-learn in d:\\anaconda3\\lib\\site-packages (from sentence_transformers->-r ..\\requirements.txt (line 8)) (1.6.1)\n",
      "Requirement already satisfied: scipy in d:\\anaconda3\\lib\\site-packages (from sentence_transformers->-r ..\\requirements.txt (line 8)) (1.13.1)\n",
      "Requirement already satisfied: Pillow in d:\\anaconda3\\lib\\site-packages (from sentence_transformers->-r ..\\requirements.txt (line 8)) (10.4.0)\n",
      "Requirement already satisfied: pyarrow>=15.0.0 in d:\\anaconda3\\lib\\site-packages (from datasets->-r ..\\requirements.txt (line 12)) (16.1.0)\n",
      "Requirement already satisfied: dill<0.3.9,>=0.3.0 in d:\\anaconda3\\lib\\site-packages (from datasets->-r ..\\requirements.txt (line 12)) (0.3.8)\n",
      "Requirement already satisfied: xxhash in d:\\anaconda3\\lib\\site-packages (from datasets->-r ..\\requirements.txt (line 12)) (3.5.0)\n",
      "Requirement already satisfied: multiprocess<0.70.17 in d:\\anaconda3\\lib\\site-packages (from datasets->-r ..\\requirements.txt (line 12)) (0.70.16)\n",
      "Requirement already satisfied: aiohttp!=4.0.0a0,!=4.0.0a1 in d:\\anaconda3\\lib\\site-packages (from fsspec[http]<=2025.3.0,>=2023.1.0->datasets->-r ..\\requirements.txt (line 12)) (3.10.5)\n",
      "Requirement already satisfied: langchain-text-splitters<1.0.0,>=0.3.8 in d:\\anaconda3\\lib\\site-packages (from langchain->-r ..\\requirements.txt (line 13)) (0.3.8)\n",
      "Requirement already satisfied: langsmith<0.4,>=0.1.17 in d:\\anaconda3\\lib\\site-packages (from langchain->-r ..\\requirements.txt (line 13)) (0.3.44)\n",
      "Requirement already satisfied: SQLAlchemy<3,>=1.4 in d:\\anaconda3\\lib\\site-packages (from langchain->-r ..\\requirements.txt (line 13)) (2.0.34)\n",
      "Requirement already satisfied: jsonpatch<2.0,>=1.33 in d:\\anaconda3\\lib\\site-packages (from langchain-core->-r ..\\requirements.txt (line 14)) (1.33)\n",
      "Requirement already satisfied: jsonpointer>=1.9 in d:\\anaconda3\\lib\\site-packages (from jsonpatch<2.0,>=1.33->langchain-core->-r ..\\requirements.txt (line 14)) (2.1)\n",
      "Requirement already satisfied: requests-toolbelt<2.0.0,>=1.0.0 in d:\\anaconda3\\lib\\site-packages (from langsmith<0.4,>=0.1.17->langchain->-r ..\\requirements.txt (line 13)) (1.0.0)\n",
      "Requirement already satisfied: zstandard<0.24.0,>=0.23.0 in d:\\anaconda3\\lib\\site-packages (from langsmith<0.4,>=0.1.17->langchain->-r ..\\requirements.txt (line 13)) (0.23.0)\n",
      "Requirement already satisfied: certifi in d:\\anaconda3\\lib\\site-packages (from httpx>=0.27.0->chromadb->-r ..\\requirements.txt (line 3)) (2025.4.26)\n",
      "Requirement already satisfied: httpcore==1.* in d:\\anaconda3\\lib\\site-packages (from httpx>=0.27.0->chromadb->-r ..\\requirements.txt (line 3)) (1.0.2)\n",
      "Requirement already satisfied: h11<0.15,>=0.13 in d:\\anaconda3\\lib\\site-packages (from httpcore==1.*->httpx>=0.27.0->chromadb->-r ..\\requirements.txt (line 3)) (0.14.0)\n",
      "Requirement already satisfied: charset-normalizer<4,>=2 in d:\\anaconda3\\lib\\site-packages (from requests->transformers->-r ..\\requirements.txt (line 4)) (3.3.2)\n",
      "Requirement already satisfied: urllib3<3,>=1.21.1 in d:\\anaconda3\\lib\\site-packages (from requests->transformers->-r ..\\requirements.txt (line 4)) (2.2.3)\n",
      "Requirement already satisfied: greenlet!=0.4.17 in d:\\anaconda3\\lib\\site-packages (from SQLAlchemy<3,>=1.4->langchain->-r ..\\requirements.txt (line 13)) (3.0.1)\n",
      "Requirement already satisfied: aiohappyeyeballs>=2.3.0 in d:\\anaconda3\\lib\\site-packages (from aiohttp!=4.0.0a0,!=4.0.0a1->fsspec[http]<=2025.3.0,>=2023.1.0->datasets->-r ..\\requirements.txt (line 12)) (2.4.0)\n",
      "Requirement already satisfied: aiosignal>=1.1.2 in d:\\anaconda3\\lib\\site-packages (from aiohttp!=4.0.0a0,!=4.0.0a1->fsspec[http]<=2025.3.0,>=2023.1.0->datasets->-r ..\\requirements.txt (line 12)) (1.2.0)\n",
      "Requirement already satisfied: attrs>=17.3.0 in d:\\anaconda3\\lib\\site-packages (from aiohttp!=4.0.0a0,!=4.0.0a1->fsspec[http]<=2025.3.0,>=2023.1.0->datasets->-r ..\\requirements.txt (line 12)) (23.1.0)\n",
      "Requirement already satisfied: frozenlist>=1.1.1 in d:\\anaconda3\\lib\\site-packages (from aiohttp!=4.0.0a0,!=4.0.0a1->fsspec[http]<=2025.3.0,>=2023.1.0->datasets->-r ..\\requirements.txt (line 12)) (1.4.0)\n",
      "Requirement already satisfied: multidict<7.0,>=4.5 in d:\\anaconda3\\lib\\site-packages (from aiohttp!=4.0.0a0,!=4.0.0a1->fsspec[http]<=2025.3.0,>=2023.1.0->datasets->-r ..\\requirements.txt (line 12)) (6.0.4)\n",
      "Requirement already satisfied: yarl<2.0,>=1.0 in d:\\anaconda3\\lib\\site-packages (from aiohttp!=4.0.0a0,!=4.0.0a1->fsspec[http]<=2025.3.0,>=2023.1.0->datasets->-r ..\\requirements.txt (line 12)) (1.11.0)\n",
      "Requirement already satisfied: pyproject_hooks in d:\\anaconda3\\lib\\site-packages (from build>=1.0.3->chromadb->-r ..\\requirements.txt (line 3)) (1.2.0)\n",
      "Requirement already satisfied: colorama in c:\\users\\ivan ng\\appdata\\roaming\\python\\python312\\site-packages (from build>=1.0.3->chromadb->-r ..\\requirements.txt (line 3)) (0.4.6)\n",
      "Requirement already satisfied: decorator in c:\\users\\ivan ng\\appdata\\roaming\\python\\python312\\site-packages (from ipython>=7.23.1->ipykernel->-r ..\\requirements.txt (line 1)) (5.2.1)\n",
      "Requirement already satisfied: ipython-pygments-lexers in c:\\users\\ivan ng\\appdata\\roaming\\python\\python312\\site-packages (from ipython>=7.23.1->ipykernel->-r ..\\requirements.txt (line 1)) (1.1.1)\n",
      "Requirement already satisfied: jedi>=0.16 in c:\\users\\ivan ng\\appdata\\roaming\\python\\python312\\site-packages (from ipython>=7.23.1->ipykernel->-r ..\\requirements.txt (line 1)) (0.19.2)\n",
      "Requirement already satisfied: prompt_toolkit<3.1.0,>=3.0.41 in c:\\users\\ivan ng\\appdata\\roaming\\python\\python312\\site-packages (from ipython>=7.23.1->ipykernel->-r ..\\requirements.txt (line 1)) (3.0.51)\n",
      "Requirement already satisfied: pygments>=2.4.0 in c:\\users\\ivan ng\\appdata\\roaming\\python\\python312\\site-packages (from ipython>=7.23.1->ipykernel->-r ..\\requirements.txt (line 1)) (2.19.1)\n",
      "Requirement already satisfied: stack_data in c:\\users\\ivan ng\\appdata\\roaming\\python\\python312\\site-packages (from ipython>=7.23.1->ipykernel->-r ..\\requirements.txt (line 1)) (0.6.3)\n",
      "Requirement already satisfied: wcwidth in c:\\users\\ivan ng\\appdata\\roaming\\python\\python312\\site-packages (from prompt_toolkit<3.1.0,>=3.0.41->ipython>=7.23.1->ipykernel->-r ..\\requirements.txt (line 1)) (0.2.13)\n",
      "Requirement already satisfied: parso<0.9.0,>=0.8.4 in c:\\users\\ivan ng\\appdata\\roaming\\python\\python312\\site-packages (from jedi>=0.16->ipython>=7.23.1->ipykernel->-r ..\\requirements.txt (line 1)) (0.8.4)\n",
      "Requirement already satisfied: jsonschema-specifications>=2023.03.6 in d:\\anaconda3\\lib\\site-packages (from jsonschema>=4.19.0->chromadb->-r ..\\requirements.txt (line 3)) (2023.7.1)\n",
      "Requirement already satisfied: referencing>=0.28.4 in d:\\anaconda3\\lib\\site-packages (from jsonschema>=4.19.0->chromadb->-r ..\\requirements.txt (line 3)) (0.30.2)\n",
      "Requirement already satisfied: rpds-py>=0.7.1 in d:\\anaconda3\\lib\\site-packages (from jsonschema>=4.19.0->chromadb->-r ..\\requirements.txt (line 3)) (0.10.6)\n",
      "Requirement already satisfied: platformdirs>=2.5 in c:\\users\\ivan ng\\appdata\\roaming\\python\\python312\\site-packages (from jupyter-core!=5.0.*,>=4.12->ipykernel->-r ..\\requirements.txt (line 1)) (4.3.8)\n",
      "Requirement already satisfied: pywin32>=300 in c:\\users\\ivan ng\\appdata\\roaming\\python\\python312\\site-packages (from jupyter-core!=5.0.*,>=4.12->ipykernel->-r ..\\requirements.txt (line 1)) (310)\n",
      "Requirement already satisfied: six>=1.9.0 in c:\\users\\ivan ng\\appdata\\roaming\\python\\python312\\site-packages (from kubernetes>=28.1.0->chromadb->-r ..\\requirements.txt (line 3)) (1.17.0)\n",
      "Requirement already satisfied: google-auth>=1.0.1 in d:\\anaconda3\\lib\\site-packages (from kubernetes>=28.1.0->chromadb->-r ..\\requirements.txt (line 3)) (2.40.2)\n",
      "Requirement already satisfied: websocket-client!=0.40.0,!=0.41.*,!=0.42.*,>=0.32.0 in d:\\anaconda3\\lib\\site-packages (from kubernetes>=28.1.0->chromadb->-r ..\\requirements.txt (line 3)) (1.8.0)\n",
      "Requirement already satisfied: requests-oauthlib in d:\\anaconda3\\lib\\site-packages (from kubernetes>=28.1.0->chromadb->-r ..\\requirements.txt (line 3)) (2.0.0)\n",
      "Requirement already satisfied: oauthlib>=3.2.2 in d:\\anaconda3\\lib\\site-packages (from kubernetes>=28.1.0->chromadb->-r ..\\requirements.txt (line 3)) (3.2.2)\n",
      "Requirement already satisfied: durationpy>=0.7 in d:\\anaconda3\\lib\\site-packages (from kubernetes>=28.1.0->chromadb->-r ..\\requirements.txt (line 3)) (0.10)\n",
      "Requirement already satisfied: cachetools<6.0,>=2.0.0 in d:\\anaconda3\\lib\\site-packages (from google-auth>=1.0.1->kubernetes>=28.1.0->chromadb->-r ..\\requirements.txt (line 3)) (5.3.3)\n",
      "Requirement already satisfied: pyasn1-modules>=0.2.1 in d:\\anaconda3\\lib\\site-packages (from google-auth>=1.0.1->kubernetes>=28.1.0->chromadb->-r ..\\requirements.txt (line 3)) (0.2.8)\n",
      "Requirement already satisfied: rsa<5,>=3.1.4 in d:\\anaconda3\\lib\\site-packages (from google-auth>=1.0.1->kubernetes>=28.1.0->chromadb->-r ..\\requirements.txt (line 3)) (4.9.1)\n",
      "Requirement already satisfied: pyasn1>=0.1.3 in d:\\anaconda3\\lib\\site-packages (from rsa<5,>=3.1.4->google-auth>=1.0.1->kubernetes>=28.1.0->chromadb->-r ..\\requirements.txt (line 3)) (0.4.8)\n",
      "Requirement already satisfied: coloredlogs in d:\\anaconda3\\lib\\site-packages (from onnxruntime>=1.14.1->chromadb->-r ..\\requirements.txt (line 3)) (15.0.1)\n",
      "Requirement already satisfied: flatbuffers in d:\\anaconda3\\lib\\site-packages (from onnxruntime>=1.14.1->chromadb->-r ..\\requirements.txt (line 3)) (25.2.10)\n",
      "Requirement already satisfied: protobuf in d:\\anaconda3\\lib\\site-packages (from onnxruntime>=1.14.1->chromadb->-r ..\\requirements.txt (line 3)) (5.29.5)\n",
      "Requirement already satisfied: deprecated>=1.2.6 in d:\\anaconda3\\lib\\site-packages (from opentelemetry-api>=1.2.0->chromadb->-r ..\\requirements.txt (line 3)) (1.2.18)\n",
      "Requirement already satisfied: importlib-metadata<8.7.0,>=6.0 in d:\\anaconda3\\lib\\site-packages (from opentelemetry-api>=1.2.0->chromadb->-r ..\\requirements.txt (line 3)) (7.0.1)\n",
      "Requirement already satisfied: zipp>=0.5 in d:\\anaconda3\\lib\\site-packages (from importlib-metadata<8.7.0,>=6.0->opentelemetry-api>=1.2.0->chromadb->-r ..\\requirements.txt (line 3)) (3.17.0)\n",
      "Requirement already satisfied: wrapt<2,>=1.10 in d:\\anaconda3\\lib\\site-packages (from deprecated>=1.2.6->opentelemetry-api>=1.2.0->chromadb->-r ..\\requirements.txt (line 3)) (1.14.1)\n",
      "Requirement already satisfied: googleapis-common-protos~=1.52 in d:\\anaconda3\\lib\\site-packages (from opentelemetry-exporter-otlp-proto-grpc>=1.2.0->chromadb->-r ..\\requirements.txt (line 3)) (1.70.0)\n",
      "Requirement already satisfied: opentelemetry-exporter-otlp-proto-common==1.33.1 in d:\\anaconda3\\lib\\site-packages (from opentelemetry-exporter-otlp-proto-grpc>=1.2.0->chromadb->-r ..\\requirements.txt (line 3)) (1.33.1)\n",
      "Requirement already satisfied: opentelemetry-proto==1.33.1 in d:\\anaconda3\\lib\\site-packages (from opentelemetry-exporter-otlp-proto-grpc>=1.2.0->chromadb->-r ..\\requirements.txt (line 3)) (1.33.1)\n",
      "Requirement already satisfied: opentelemetry-semantic-conventions==0.54b1 in d:\\anaconda3\\lib\\site-packages (from opentelemetry-sdk>=1.2.0->chromadb->-r ..\\requirements.txt (line 3)) (0.54b1)\n",
      "Requirement already satisfied: opentelemetry-instrumentation-asgi==0.54b1 in d:\\anaconda3\\lib\\site-packages (from opentelemetry-instrumentation-fastapi>=0.41b0->chromadb->-r ..\\requirements.txt (line 3)) (0.54b1)\n",
      "Requirement already satisfied: opentelemetry-instrumentation==0.54b1 in d:\\anaconda3\\lib\\site-packages (from opentelemetry-instrumentation-fastapi>=0.41b0->chromadb->-r ..\\requirements.txt (line 3)) (0.54b1)\n",
      "Requirement already satisfied: opentelemetry-util-http==0.54b1 in d:\\anaconda3\\lib\\site-packages (from opentelemetry-instrumentation-fastapi>=0.41b0->chromadb->-r ..\\requirements.txt (line 3)) (0.54b1)\n",
      "Requirement already satisfied: asgiref~=3.0 in d:\\anaconda3\\lib\\site-packages (from opentelemetry-instrumentation-asgi==0.54b1->opentelemetry-instrumentation-fastapi>=0.41b0->chromadb->-r ..\\requirements.txt (line 3)) (3.8.1)\n",
      "Requirement already satisfied: backoff>=1.10.0 in d:\\anaconda3\\lib\\site-packages (from posthog>=2.4.0->chromadb->-r ..\\requirements.txt (line 3)) (2.2.1)\n",
      "Requirement already satisfied: distro>=1.5.0 in d:\\anaconda3\\lib\\site-packages (from posthog>=2.4.0->chromadb->-r ..\\requirements.txt (line 3)) (1.9.0)\n",
      "Requirement already satisfied: markdown-it-py>=2.2.0 in d:\\anaconda3\\lib\\site-packages (from rich>=10.11.0->chromadb->-r ..\\requirements.txt (line 3)) (2.2.0)\n",
      "Requirement already satisfied: mdurl~=0.1 in d:\\anaconda3\\lib\\site-packages (from markdown-it-py>=2.2.0->rich>=10.11.0->chromadb->-r ..\\requirements.txt (line 3)) (0.1.0)\n",
      "Requirement already satisfied: mpmath<1.4,>=1.1.0 in d:\\anaconda3\\lib\\site-packages (from sympy>=1.13.3->torch->-r ..\\requirements.txt (line 5)) (1.3.0)\n",
      "Requirement already satisfied: click>=8.0.0 in d:\\anaconda3\\lib\\site-packages (from typer>=0.9.0->chromadb->-r ..\\requirements.txt (line 3)) (8.1.7)\n",
      "Requirement already satisfied: shellingham>=1.3.0 in d:\\anaconda3\\lib\\site-packages (from typer>=0.9.0->chromadb->-r ..\\requirements.txt (line 3)) (1.5.4)\n",
      "Requirement already satisfied: httptools>=0.6.3 in d:\\anaconda3\\lib\\site-packages (from uvicorn[standard]>=0.18.3->chromadb->-r ..\\requirements.txt (line 3)) (0.6.4)\n",
      "Requirement already satisfied: python-dotenv>=0.13 in d:\\anaconda3\\lib\\site-packages (from uvicorn[standard]>=0.18.3->chromadb->-r ..\\requirements.txt (line 3)) (1.1.0)\n",
      "Requirement already satisfied: watchfiles>=0.13 in d:\\anaconda3\\lib\\site-packages (from uvicorn[standard]>=0.18.3->chromadb->-r ..\\requirements.txt (line 3)) (1.0.5)\n",
      "Requirement already satisfied: websockets>=10.4 in d:\\anaconda3\\lib\\site-packages (from uvicorn[standard]>=0.18.3->chromadb->-r ..\\requirements.txt (line 3)) (15.0.1)\n",
      "Requirement already satisfied: humanfriendly>=9.1 in d:\\anaconda3\\lib\\site-packages (from coloredlogs->onnxruntime>=1.14.1->chromadb->-r ..\\requirements.txt (line 3)) (10.0)\n",
      "Requirement already satisfied: pyreadline3 in d:\\anaconda3\\lib\\site-packages (from humanfriendly>=9.1->coloredlogs->onnxruntime>=1.14.1->chromadb->-r ..\\requirements.txt (line 3)) (3.5.4)\n",
      "Requirement already satisfied: MarkupSafe>=2.0 in d:\\anaconda3\\lib\\site-packages (from jinja2->torch->-r ..\\requirements.txt (line 5)) (2.1.3)\n",
      "Requirement already satisfied: joblib>=1.2.0 in d:\\anaconda3\\lib\\site-packages (from scikit-learn->sentence_transformers->-r ..\\requirements.txt (line 8)) (1.4.2)\n",
      "Requirement already satisfied: threadpoolctl>=3.1.0 in d:\\anaconda3\\lib\\site-packages (from scikit-learn->sentence_transformers->-r ..\\requirements.txt (line 8)) (3.5.0)\n",
      "Requirement already satisfied: executing>=1.2.0 in c:\\users\\ivan ng\\appdata\\roaming\\python\\python312\\site-packages (from stack_data->ipython>=7.23.1->ipykernel->-r ..\\requirements.txt (line 1)) (2.2.0)\n",
      "Requirement already satisfied: asttokens>=2.1.0 in c:\\users\\ivan ng\\appdata\\roaming\\python\\python312\\site-packages (from stack_data->ipython>=7.23.1->ipykernel->-r ..\\requirements.txt (line 1)) (3.0.0)\n",
      "Requirement already satisfied: pure-eval in c:\\users\\ivan ng\\appdata\\roaming\\python\\python312\\site-packages (from stack_data->ipython>=7.23.1->ipykernel->-r ..\\requirements.txt (line 1)) (0.2.3)\n"
     ]
    }
   ],
   "source": [
    "!pip install -r ..\\requirements.txt"
   ]
  },
  {
   "cell_type": "code",
   "execution_count": 30,
   "id": "04fb8e09",
   "metadata": {},
   "outputs": [],
   "source": [
    "import json\n",
    "import random\n",
    "import pandas as pd\n",
    "from sklearn.model_selection import train_test_split\n",
    "from datasets import load_dataset\n",
    "from collections import Counter, defaultdict"
   ]
  },
  {
   "cell_type": "markdown",
   "id": "e4f366a0",
   "metadata": {},
   "source": [
    "### Data Loading"
   ]
  },
  {
   "cell_type": "code",
   "execution_count": 5,
   "id": "1e2b0435",
   "metadata": {},
   "outputs": [],
   "source": [
    "sunrise_path = \"fine_tuning_sunrise.json\""
   ]
  },
  {
   "cell_type": "code",
   "execution_count": 38,
   "id": "ab60dd7d",
   "metadata": {},
   "outputs": [
    {
     "data": {
      "text/plain": [
       "Dataset({\n",
       "    features: ['Queue', 'Question', 'Answer', 'Chapter', 'Task Type', 'Difficulty'],\n",
       "    num_rows: 600\n",
       "})"
      ]
     },
     "execution_count": 38,
     "metadata": {},
     "output_type": "execute_result"
    }
   ],
   "source": [
    "dataset = load_dataset('json', data_files=sunrise_path)\n",
    "dataset = dataset['train']\n",
    "dataset"
   ]
  },
  {
   "cell_type": "markdown",
   "id": "59b16187",
   "metadata": {},
   "source": [
    "### Data Splitting"
   ]
  },
  {
   "cell_type": "code",
   "execution_count": null,
   "id": "2ac0ae09",
   "metadata": {},
   "outputs": [
    {
     "name": "stdout",
     "output_type": "stream",
     "text": [
      "--- Simplified Split Results ---\n",
      "Training set total: 480\n",
      "Validation set total: 60\n",
      "Test set total: 60\n",
      "\n",
      "Splitting complete!\n"
     ]
    }
   ],
   "source": [
    "all_data = list(dataset)\n",
    "\n",
    "# 1. Create the labels for stratification (by Chapter only)\n",
    "stratify_labels = [str(d['Chapter']) for d in all_data]\n",
    "\n",
    "# 2. First split: Get the 80% training set.\n",
    "#    The other 20% is a temporary set for validation and testing.\n",
    "train_data, test_data, train_label, test_label = train_test_split(\n",
    "    all_data,\n",
    "    stratify_labels,\n",
    "    test_size=0.1,      # Splitting off 20%\n",
    "    random_state=614,\n",
    "    stratify=stratify_labels\n",
    ")\n",
    "\n",
    "# 3. Second split: Split the 20% temporary set in half.\n",
    "#    This gives 10% for validation and 10% for testing.\n",
    "train_data, val_data, _, _ = train_test_split(\n",
    "    train_data,\n",
    "    train_label,\n",
    "    test_size=1/9,\n",
    "    random_state=614,\n",
    "    stratify=train_label\n",
    ")\n",
    "\n",
    "print(\"--- Simplified Split Results ---\")\n",
    "print(f\"Training set total: {len(train_data)}\")\n",
    "print(f\"Validation set total: {len(val_data)}\")\n",
    "print(f\"Test set total: {len(test_data)}\")\n",
    "print(\"\\nSplitting complete!\")"
   ]
  },
  {
   "cell_type": "markdown",
   "id": "c3ff32db",
   "metadata": {},
   "source": [
    "### EDA"
   ]
  },
  {
   "cell_type": "code",
   "execution_count": null,
   "id": "5becd27f",
   "metadata": {},
   "outputs": [
    {
     "name": "stdout",
     "output_type": "stream",
     "text": [
      "Counts have been re-calculated by Chapter only.\n"
     ]
    }
   ],
   "source": [
    "from collections import defaultdict\n",
    "\n",
    "# --- Re-create the count dictionaries using ONLY 'Chapter' as the key ---\n",
    "\n",
    "train_counts = defaultdict(int)\n",
    "val_counts = defaultdict(int)\n",
    "test_counts = defaultdict(int)\n",
    "\n",
    "# Count items by Chapter in the training set\n",
    "for item in train_data:\n",
    "    key = item[\"Chapter\"]  # Use 'Chapter' only\n",
    "    train_counts[key] += 1\n",
    "\n",
    "# Count items by Chapter in the validation set\n",
    "for item in val_data:\n",
    "    key = item[\"Chapter\"]  # Use 'Chapter' only\n",
    "    val_counts[key] += 1\n",
    "\n",
    "# Count items by Chapter in the test set\n",
    "for item in test_data:\n",
    "    key = item[\"Chapter\"]  # Use 'Chapter' only\n",
    "    test_counts[key] += 1\n"
   ]
  },
  {
   "cell_type": "code",
   "execution_count": 79,
   "id": "5d154ca1",
   "metadata": {},
   "outputs": [
    {
     "name": "stdout",
     "output_type": "stream",
     "text": [
      "\n",
      "--- Distribution of Chapters Across Datasets ---\n",
      "Total Sizes -> Train: 480, Validation: 60, Test: 60\n",
      "\n",
      "    Chapter Train %   Val %  Test % Raw Counts (Tr/V/T)\n",
      "0         0   2.71%   3.33%   3.33%              13/2/2\n",
      "1         1  12.29%  11.67%  11.67%              59/7/7\n",
      "2         2   6.04%   6.67%   6.67%              29/4/4\n",
      "3         3   3.12%   3.33%   3.33%              15/2/2\n",
      "4         4   5.21%   5.00%   5.00%              25/3/3\n",
      "5         5   3.75%   3.33%   3.33%              18/2/2\n",
      "6         6   2.29%   1.67%   1.67%              11/1/1\n",
      "7         7   2.50%   3.33%   1.67%              12/2/1\n",
      "8         8   2.50%   1.67%   1.67%              12/1/1\n",
      "9         9   3.54%   3.33%   3.33%              17/2/2\n",
      "10       10   3.33%   3.33%   3.33%              16/2/2\n",
      "11       11   2.71%   1.67%   3.33%              13/1/2\n",
      "12       12   2.50%   3.33%   1.67%              12/2/1\n",
      "13       13   2.08%   1.67%   1.67%              10/1/1\n",
      "14       14   2.29%   1.67%   1.67%              11/1/1\n",
      "15       15   5.83%   5.00%   6.67%              28/3/4\n",
      "16       16   0.83%   1.67%   1.67%               4/1/1\n",
      "17       17   1.25%   1.67%   1.67%               6/1/1\n",
      "18       18   1.67%   1.67%   1.67%               8/1/1\n",
      "19       19   1.04%   1.67%   1.67%               5/1/1\n",
      "20       20   0.83%   0.00%   0.00%               4/0/0\n",
      "21       21   4.17%   5.00%   3.33%              20/3/2\n",
      "22       22   1.67%   1.67%   1.67%               8/1/1\n",
      "23       23   2.71%   3.33%   3.33%              13/2/2\n",
      "24       24   2.08%   1.67%   1.67%              10/1/1\n",
      "25       25   2.71%   3.33%   3.33%              13/2/2\n",
      "26       26   2.50%   3.33%   3.33%              12/2/2\n",
      "27       27   3.12%   3.33%   3.33%              15/2/2\n",
      "28       28   1.04%   1.67%   1.67%               5/1/1\n",
      "29       29   5.21%   5.00%   5.00%              25/3/3\n",
      "30       30   3.75%   3.33%   3.33%              18/2/2\n",
      "31       31   2.71%   1.67%   3.33%              13/1/2\n"
     ]
    }
   ],
   "source": [
    "import pandas as pd\n",
    "\n",
    "# This code is the same as before, but now it uses the correctly populated dictionaries\n",
    "\n",
    "# 1. Get the total size of each dataset\n",
    "total_train = len(train_data)\n",
    "total_val = len(val_data)\n",
    "total_test = len(test_data)\n",
    "\n",
    "# 2. Get a sorted list of all unique chapters\n",
    "all_chapters = sorted(set(train_counts.keys()) | set(val_counts.keys()) | set(test_counts.keys()))\n",
    "\n",
    "# 3. Prepare the data for display\n",
    "results_list = []\n",
    "for chapter in all_chapters:\n",
    "    train_c = train_counts.get(chapter, 0)\n",
    "    val_c = val_counts.get(chapter, 0)\n",
    "    test_c = test_counts.get(chapter, 0)\n",
    "    \n",
    "    train_pct = (train_c / total_train) * 100 if total_train > 0 else 0\n",
    "    val_pct = (val_c / total_val) * 100 if total_val > 0 else 0\n",
    "    test_pct = (test_c / total_test) * 100 if total_test > 0 else 0\n",
    "    \n",
    "    results_list.append({\n",
    "        \"Chapter\": chapter,\n",
    "        \"Train %\": f\"{train_pct:.2f}%\",\n",
    "        \"Val %\": f\"{val_pct:.2f}%\",\n",
    "        \"Test %\": f\"{test_pct:.2f}%\",\n",
    "        \"Raw Counts (Tr/V/T)\": f\"{train_c}/{val_c}/{test_c}\"\n",
    "    })\n",
    "\n",
    "# 4. Create and print the DataFrame\n",
    "df_distribution = pd.DataFrame(results_list)\n",
    "print(f\"\\n--- Distribution of Chapters Across Datasets ---\")\n",
    "print(f\"Total Sizes -> Train: {total_train}, Validation: {total_val}, Test: {total_test}\\n\")\n",
    "print(df_distribution)"
   ]
  },
  {
   "cell_type": "markdown",
   "id": "257ece99",
   "metadata": {},
   "source": [
    "### Store to JSON"
   ]
  },
  {
   "cell_type": "code",
   "execution_count": 86,
   "id": "6c085383",
   "metadata": {},
   "outputs": [
    {
     "name": "stdout",
     "output_type": "stream",
     "text": [
      "Successfully saved train_data to train_data.json!\n",
      "Successfully saved val_data to val_data.json!\n",
      "Successfully saved test_data to test_data.json!\n"
     ]
    }
   ],
   "source": [
    "# to data frame\n",
    "df_train = pd.DataFrame(train_data)\n",
    "df_val = pd.DataFrame(val_data)\n",
    "df_test = pd.DataFrame(test_data)\n",
    "\n",
    "# choose Q&A for fine tuning\n",
    "df_train = df_train[['Question', 'Answer']]\n",
    "df_val = df_val[['Question', 'Answer']]\n",
    "df_test = df_test[['Question', 'Answer']]\n",
    "\n",
    "# stroe to json files\n",
    "df_train.to_json(\"train_data.json\", orient=\"records\", lines=True, force_ascii=False)\n",
    "df_val.to_json(\"val_data.json\", orient=\"records\", lines=True, force_ascii=False)\n",
    "df_test.to_json(\"test_data.json\", orient=\"records\", lines=True, force_ascii=False)\n",
    "\n",
    "\n",
    "print(\"Successfully saved train_data to train_data.json!\")\n",
    "print(\"Successfully saved val_data to val_data.json!\")\n",
    "print(\"Successfully saved test_data to test_data.json!\")"
   ]
  },
  {
   "cell_type": "code",
   "execution_count": null,
   "id": "5baa130a",
   "metadata": {},
   "outputs": [],
   "source": []
  }
 ],
 "metadata": {
  "kernelspec": {
   "display_name": "base",
   "language": "python",
   "name": "python3"
  },
  "language_info": {
   "codemirror_mode": {
    "name": "ipython",
    "version": 3
   },
   "file_extension": ".py",
   "mimetype": "text/x-python",
   "name": "python",
   "nbconvert_exporter": "python",
   "pygments_lexer": "ipython3",
   "version": "3.12.3"
  }
 },
 "nbformat": 4,
 "nbformat_minor": 5
}
